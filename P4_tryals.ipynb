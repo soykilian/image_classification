{
 "cells": [
  {
   "cell_type": "code",
   "execution_count": null,
   "metadata": {
    "collapsed": true,
    "pycharm": {
     "is_executing": true,
     "name": "#%%\n"
    }
   },
   "outputs": [],
   "source": [
    "import matplotlib.pyplot as plt\n",
    "import torch"
   ]
  },
  {
   "cell_type": "code",
   "execution_count": null,
   "metadata": {
    "collapsed": false,
    "pycharm": {
     "is_executing": true,
     "name": "#%%\n"
    }
   },
   "outputs": [],
   "source": [
    "letter_X = torch.Tensor(10, 1, 20, 20)\n",
    "letter_O = torch.Tensor(10, 1, 20, 20)\n",
    "letter_U = torch.Tensor(10, 1, 20, 20)"
   ]
  },
  {
   "cell_type": "code",
   "execution_count": null,
   "metadata": {
    "collapsed": false,
    "pycharm": {
     "is_executing": true,
     "name": "#%%\n"
    }
   },
   "outputs": [],
   "source": [
    "import random\n",
    "center_x = 10\n",
    "center_y = 10\n",
    "def draw_line(matrix, point1, point2):\n",
    "    # Bresenham algo FDF\n",
    "    x1, y1 = point1\n",
    "    x2, y2 = point2\n",
    "    dx = abs(x2 - x1)\n",
    "    dy = abs(y2 - y1)\n",
    "    sx = 1 if x1 < x2 else -1\n",
    "    sy = 1 if y1 < y2 else -1\n",
    "    err = dx - dy\n",
    "    while x1 != x2 or y1 != y2:\n",
    "        matrix[y1, x1] = 255  # Set the pixel to 255 (white)\n",
    "        e2 = 2 * err\n",
    "        if e2 > -dy:\n",
    "            err -= dy\n",
    "            x1 += sx\n",
    "        if e2 < dx:\n",
    "            err += dx\n",
    "            y1 += sy\n",
    "    return matrix\n",
    "\n",
    "def generate_centered_X_image(size=20):\n",
    "    image = torch.zeros((size, size), dtype=torch.uint8)\n",
    "    start = random.randint(4, 8)\n",
    "    end = random.randint(13, 17)\n",
    "    image = draw_line(image, (start, start), (end, end))\n",
    "    start = random.randint(4, 8)\n",
    "    end = random.randint(13, 17)\n",
    "    image = draw_line(image, (start, size-start), (end, size-end))\n",
    "    return image\n",
    "\n",
    "def generate_centered_O_image(size=20):\n",
    "    image = torch.zeros((size, size), dtype=torch.uint8)\n",
    "    x_length = random.randint(5, 13)\n",
    "    y_length = random.randint(5, 13)\n",
    "    corner1 = [center_x - int(x_length/2), center_y - int(y_length/2)]\n",
    "    corner2 = [center_x + int(x_length/2), center_y + int(y_length/2)]\n",
    "    min_row = min(corner1[0], corner2[0])\n",
    "    max_row = max(corner1[0], corner2[0])\n",
    "    min_col = min(corner1[1], corner2[1])\n",
    "    max_col = max(corner1[1], corner2[1])\n",
    "    for col in range(min_col+1, max_col):\n",
    "        image[min_row][col] = 255  # Top edge\n",
    "        image[max_row][col] = 255  # Bottom edge\n",
    "    for row in range(min_row+1, max_row):\n",
    "        image[row][min_col] = 255  # Left edge\n",
    "        image[row][max_col] = 255  # Right edge\n",
    "    return image\n",
    "\n",
    "def generate_centered_U_image(size=20):\n",
    "    image = torch.zeros((size, size), dtype=torch.uint8)\n",
    "    x_length = random.randint(5, 13)\n",
    "    y_length = random.randint(5, 13)\n",
    "    corner1 = [center_x - int(x_length/2), center_y - int(y_length/2)]\n",
    "    corner2 = [center_x + int(x_length/2), center_y + int(y_length/2)]\n",
    "    min_row = min(corner1[0], corner2[0])\n",
    "    max_row = max(corner1[0], corner2[0])\n",
    "    min_col = min(corner1[1], corner2[1])\n",
    "    max_col = max(corner1[1], corner2[1])\n",
    "    for col in range(min_col+1, max_col):\n",
    "        image[max_row][col] = 255  # Bottom edge\n",
    "    for row in range(min_row+1, max_row):\n",
    "        image[row][min_col] = 255  # Left edge\n",
    "        image[row][max_col] = 255  # Right edge\n",
    "    return image"
   ]
  },
  {
   "cell_type": "code",
   "execution_count": null,
   "metadata": {
    "collapsed": false,
    "pycharm": {
     "name": "#%%\n"
    }
   },
   "outputs": [],
   "source": [
    "letter_X[:,0,:,:] = torch.stack([generate_centered_X_image() for _ in range(10)])\n",
    "letter_O[:,0,:,:] = torch.stack([generate_centered_O_image() for _ in range(10)])\n",
    "letter_U[:,0,:,:] = torch.stack([generate_centered_U_image() for _ in range(10)])"
   ]
  },
  {
   "cell_type": "code",
   "execution_count": null,
   "metadata": {
    "collapsed": false,
    "pycharm": {
     "name": "#%%\n"
    }
   },
   "outputs": [],
   "source": [
    "from Lec7ImageStuff import PlotImages\n",
    "images = torch.cat((letter_X, letter_O, letter_U), dim=0)\n",
    "targets = torch.cat((torch.zeros(10), torch.ones(10), 2*torch.ones(10)))\n",
    "images.shape"
   ]
  },
  {
   "cell_type": "code",
   "execution_count": null,
   "metadata": {
    "collapsed": false,
    "pycharm": {
     "name": "#%%\n"
    }
   },
   "outputs": [],
   "source": [
    "img = PlotImages(images, targets)"
   ]
  },
  {
   "cell_type": "code",
   "execution_count": 1,
   "metadata": {
    "collapsed": false,
    "pycharm": {
     "name": "#%%\n"
    }
   },
   "outputs": [],
   "source": [
    "from torchvision.transforms.functional import  rotate, vflip, hflip\n",
    "from torchvision.transforms import Compose, ToTensor, RandomHorizontalFlip, RandomVerticalFlip, RandomRotation, ToPILImage\n",
    "from torchvision import transforms"
   ]
  },
  {
   "cell_type": "code",
   "execution_count": 1,
   "metadata": {
    "collapsed": false,
    "pycharm": {
     "name": "#%%\n"
    }
   },
   "outputs": [
    {
     "ename": "NameError",
     "evalue": "name 'torch' is not defined",
     "output_type": "error",
     "traceback": [
      "\u001b[0;31m---------------------------------------------------------------------------\u001b[0m",
      "\u001b[0;31mNameError\u001b[0m                                 Traceback (most recent call last)",
      "\u001b[0;32m/var/folders/zr/3q_x8s9j52z3vpcn4kc2c9bc0000gn/T/ipykernel_2925/3471809091.py\u001b[0m in \u001b[0;36m<module>\u001b[0;34m\u001b[0m\n\u001b[0;32m----> 1\u001b[0;31m \u001b[0mletter_X_aug\u001b[0m \u001b[0;34m=\u001b[0m \u001b[0mtorch\u001b[0m\u001b[0;34m.\u001b[0m\u001b[0mTensor\u001b[0m\u001b[0;34m(\u001b[0m\u001b[0;36m100\u001b[0m\u001b[0;34m,\u001b[0m \u001b[0;36m1\u001b[0m\u001b[0;34m,\u001b[0m \u001b[0;36m20\u001b[0m\u001b[0;34m,\u001b[0m \u001b[0;36m20\u001b[0m\u001b[0;34m)\u001b[0m\u001b[0;34m\u001b[0m\u001b[0;34m\u001b[0m\u001b[0m\n\u001b[0m\u001b[1;32m      2\u001b[0m \u001b[0mletter_O_aug\u001b[0m \u001b[0;34m=\u001b[0m \u001b[0mtorch\u001b[0m\u001b[0;34m.\u001b[0m\u001b[0mTensor\u001b[0m\u001b[0;34m(\u001b[0m\u001b[0;36m100\u001b[0m\u001b[0;34m,\u001b[0m \u001b[0;36m1\u001b[0m\u001b[0;34m,\u001b[0m \u001b[0;36m20\u001b[0m\u001b[0;34m,\u001b[0m \u001b[0;36m20\u001b[0m\u001b[0;34m)\u001b[0m\u001b[0;34m\u001b[0m\u001b[0;34m\u001b[0m\u001b[0m\n\u001b[1;32m      3\u001b[0m \u001b[0mletter_U_aug\u001b[0m \u001b[0;34m=\u001b[0m \u001b[0mtorch\u001b[0m\u001b[0;34m.\u001b[0m\u001b[0mTensor\u001b[0m\u001b[0;34m(\u001b[0m\u001b[0;36m100\u001b[0m\u001b[0;34m,\u001b[0m \u001b[0;36m1\u001b[0m\u001b[0;34m,\u001b[0m \u001b[0;36m20\u001b[0m\u001b[0;34m,\u001b[0m \u001b[0;36m20\u001b[0m\u001b[0;34m)\u001b[0m\u001b[0;34m\u001b[0m\u001b[0;34m\u001b[0m\u001b[0m\n\u001b[1;32m      4\u001b[0m \u001b[0mletter_U_aug\u001b[0m\u001b[0;34m[\u001b[0m\u001b[0;34m:\u001b[0m\u001b[0;36m10\u001b[0m\u001b[0;34m]\u001b[0m \u001b[0;34m=\u001b[0m \u001b[0mletter_U\u001b[0m\u001b[0;34m\u001b[0m\u001b[0;34m\u001b[0m\u001b[0m\n\u001b[1;32m      5\u001b[0m \u001b[0mletter_X_aug\u001b[0m\u001b[0;34m[\u001b[0m\u001b[0;34m:\u001b[0m\u001b[0;36m10\u001b[0m\u001b[0;34m]\u001b[0m \u001b[0;34m=\u001b[0m \u001b[0mletter_X\u001b[0m\u001b[0;34m\u001b[0m\u001b[0;34m\u001b[0m\u001b[0m\n",
      "\u001b[0;31mNameError\u001b[0m: name 'torch' is not defined"
     ]
    }
   ],
   "source": [
    "letter_X_aug = torch.Tensor(100, 1, 20, 20)\n",
    "letter_O_aug = torch.Tensor(100, 1, 20, 20)\n",
    "letter_U_aug = torch.Tensor(100, 1, 20, 20)\n",
    "letter_U_aug[:10] = letter_U\n",
    "letter_X_aug[:10] = letter_X\n",
    "letter_O_aug[:10] = letter_O\n",
    "for i in range(1, 10):\n",
    "    available_transforms = [\n",
    "    RandomVerticalFlip(1),\n",
    "    RandomHorizontalFlip(1),\n",
    "    RandomRotation(90)\n",
    "]\n",
    "    selected_transform = random.choice(available_transforms)\n",
    "    \"\"\"\n",
    "    rand_transform = transforms.Compose([\n",
    "        ToPILImage(),\n",
    "        selected_transform(),\n",
    "        ToTensor()])\n",
    "    \"\"\"\n",
    "    print(selected_transform)\n",
    "    letter_X_aug[i*10: (i+1)*10] = torch.cat([selected_transform(letter_X[j]) for j in range(10)], dim=0).unsqueeze(dim=1)\n",
    "    letter_U_aug[i*10: (i+1)*10] = torch.cat([selected_transform(letter_U[j]) for j in range(10)], dim=0).unsqueeze(dim=1)\n",
    "    letter_O_aug[i*10: (i+1)*10] = torch.cat([selected_transform(letter_O[j]) for j in range(10)], dim=0).unsqueeze(dim=1)"
   ]
  },
  {
   "cell_type": "code",
   "execution_count": null,
   "metadata": {
    "collapsed": false,
    "pycharm": {
     "name": "#%%\n"
    }
   },
   "outputs": [],
   "source": [
    "img = PlotImages(letter_X_aug, torch.ones(100), 100, 10)"
   ]
  },
  {
   "cell_type": "code",
   "execution_count": 123,
   "metadata": {
    "collapsed": false,
    "pycharm": {
     "name": "#%%\n"
    }
   },
   "outputs": [
    {
     "data": {
      "text/plain": [
       "<matplotlib.image.AxesImage at 0x7f82fa2ae520>"
      ]
     },
     "execution_count": 123,
     "metadata": {},
     "output_type": "execute_result"
    },
    {
     "data": {
      "image/png": "[encoded data removed]",
      "text/plain": [
       "<Figure size 432x288 with 1 Axes>"
      ]
     },
     "metadata": {
      "needs_background": "light"
     },
     "output_type": "display_data"
    }
   ],
   "source": [
    "plt.imshow(letter_X_aug[1].squeeze(dim=0))\n"
   ]
  },
  {
   "cell_type": "code",
   "execution_count": 122,
   "metadata": {
    "collapsed": false,
    "pycharm": {
     "name": "#%%\n"
    }
   },
   "outputs": [
    {
     "data": {
      "text/plain": [
       "<matplotlib.image.AxesImage at 0x7f83225be3a0>"
      ]
     },
     "execution_count": 122,
     "metadata": {},
     "output_type": "execute_result"
    },
    {
     "data": {
      "image/png": "[encoded data removed]",
      "text/plain": [
       "<Figure size 432x288 with 1 Axes>"
      ]
     },
     "metadata": {
      "needs_background": "light"
     },
     "output_type": "display_data"
    }
   ],
   "source": [
    "x_rot = transforms.functional.rotate(letter_X_aug[1], 90)\n",
    "plt.imshow(x_rot.squeeze(dim=0))\n"
   ]
  },
  {
   "cell_type": "code",
   "execution_count": 64,
   "metadata": {
    "collapsed": false,
    "pycharm": {
     "name": "#%%\n"
    }
   },
   "outputs": [
    {
     "data": {
      "text/plain": [
       "<matplotlib.image.AxesImage at 0x7f82f2afeac0>"
      ]
     },
     "execution_count": 64,
     "metadata": {},
     "output_type": "execute_result"
    },
    {
     "data": {
      "image/png": "[encoded data removed]",
      "text/plain": [
       "<Figure size 432x288 with 1 Axes>"
      ]
     },
     "metadata": {
      "needs_background": "light"
     },
     "output_type": "display_data"
    }
   ],
   "source": [
    "plt.imshow(letter_X_aug[11].squeeze(dim=0))"
   ]
  }
 ],
 "metadata": {
  "kernelspec": {
   "display_name": "Python 3",
   "language": "python",
   "name": "python3"
  },
  "language_info": {
   "codemirror_mode": {
    "name": "ipython",
    "version": 2
   },
   "file_extension": ".py",
   "mimetype": "text/x-python",
   "name": "python",
   "nbconvert_exporter": "python",
   "pygments_lexer": "ipython2",
   "version": "3.8.18"
  }
 },
 "nbformat": 4,
 "nbformat_minor": 0
}
