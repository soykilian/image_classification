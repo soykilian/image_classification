{
 "cells": [
  {
   "cell_type": "code",
   "execution_count": 1,
   "metadata": {},
   "outputs": [],
   "source": [
    "from torchvision.models import resnet50, ResNet50_Weights\n",
    "\n",
    "from torchvision.datasets import ImageFolder, CIFAR100\n",
    "import random\n",
    "import time\n",
    "import numpy as np\n",
    "from PIL import Image\n",
    "from copy import deepcopy\n",
    "#import cpuinfo\n",
    "import subprocess\n",
    "\n",
    "\n",
    "import matplotlib.pyplot as plt\n",
    "from matplotlib.colors import ListedColormap\n",
    "plt.style.use('fivethirtyeight')\n",
    "\n",
    "import torch\n",
    "import torch.nn as nn\n",
    "import torch.nn.functional as F\n",
    "import torch.optim as optim"
   ]
  },
  {
   "cell_type": "code",
   "execution_count": 2,
   "metadata": {},
   "outputs": [],
   "source": [
    "from Lec11ImageStuff import DownloadRPS, plotRPSbatch, plotCIFAR10batch\n",
    "from Lec11sbs import StepByStep, CNN2layer\n",
    "from torch.utils.data import DataLoader, Dataset, random_split, TensorDataset\n",
    "from torchvision.transforms import Compose, ToTensor, Normalize, ToPILImage,\\\n",
    "                                   Resize, CenterCrop, RandomResizedCrop"
   ]
  },
  {
   "cell_type": "code",
   "execution_count": 3,
   "metadata": {},
   "outputs": [
    {
     "name": "stdout",
     "output_type": "stream",
     "text": [
      "Files already downloaded and verified\n",
      "Files already downloaded and verified\n"
     ]
    }
   ],
   "source": [
    "def FreezeModel(model):\n",
    "    for par in model.parameters():\n",
    "        par.requires_grad=False         # Will no longer learn this parameter\n",
    "\n",
    "       \n",
    "def PreprocessedDataset(model, loader, device=None):\n",
    "    if device is None:  \n",
    "        device = next(model.parameters()).device\n",
    "        features = None\n",
    "        labels = None\n",
    " \n",
    "    for i, (x, y) in enumerate(loader):\n",
    "        model.eval()\n",
    "        output = model(x.to(device))\n",
    "        if i == 0:\n",
    "            features = output.detach().cpu()\n",
    "            y = ((y - 1) // 5 + 1).to(torch.int64)\n",
    "            labels = y.cpu()\n",
    "        else:\n",
    "            features = torch.cat(\n",
    "                [features, output.detach().cpu()])\n",
    "            y = ((y - 1) // 5 + 1).to(torch.int64)\n",
    "            labels = torch.cat([labels, y.cpu()])\n",
    "\n",
    "    dataset = TensorDataset(features, labels)\n",
    "    return dataset\n",
    "\n",
    "\n",
    "batch_size=128\n",
    "CIFAR10NUMTRAIN=50000\n",
    "CIFAR10NUMTEST=10000\n",
    "normalizer=Normalize((0.5, 0.5, 0.5), (0.5, 0.5, 0.5))\n",
    "# Original RPS dataset images are 300x300 (3 channel)\n",
    "# We need to convert them to 224x224. \n",
    "\n",
    "CIFAR100transform    = Compose( [Resize(224), ToTensor(), normalizer ])\n",
    "\n",
    "CIFAR100trainset     = CIFAR100(root='./data', train=True, download=True, \n",
    "                              transform=CIFAR100transform)\n",
    "\n",
    "CIFAR100trainloader  = DataLoader(CIFAR100trainset, batch_size=batch_size, \n",
    "                                 shuffle=True)\n",
    "\n",
    "CIFAR100testset           = CIFAR100(root='./data', train=False, download=True, \n",
    "                                   transform=CIFAR100transform)\n",
    "CIFAR100testloader   = DataLoader(CIFAR100testset, batch_size=batch_size, \n",
    "                                 shuffle=False)\n",
    "CIFAR100classes = ['aquatic mammals',\n",
    "'fish',\n",
    "'flowers',\n",
    "'food',\n",
    "'fruit and vegetables',\n",
    "'household electrical devices',\n",
    "'household furniture',\n",
    "'insects',\n",
    "'large carnivores',\n",
    "'large man-made outdoor things',\n",
    "'large natural outdoor scenes',\n",
    "'large omnivores and herbivores',\n",
    "'medium-sized mammals',\n",
    "'non-insect invertebrates',\n",
    "'people',\n",
    "'reptiles',\n",
    "'small',\n",
    "'trees',\n",
    "'vehicles 1',\n",
    "'vehicles 2']\n",
    "\n"
   ]
  },
  {
   "cell_type": "code",
   "execution_count": 5,
   "metadata": {},
   "outputs": [
    {
     "name": "stdout",
     "output_type": "stream",
     "text": [
      "conv1.weight\n",
      "bn1.weight\n",
      "bn1.bias\n",
      "layer1.0.conv1.weight\n",
      "layer1.0.bn1.weight\n",
      "layer1.0.bn1.bias\n",
      "layer1.0.conv2.weight\n",
      "layer1.0.bn2.weight\n",
      "layer1.0.bn2.bias\n",
      "layer1.0.conv3.weight\n",
      "layer1.0.bn3.weight\n",
      "layer1.0.bn3.bias\n",
      "layer1.0.downsample.0.weight\n",
      "layer1.0.downsample.1.weight\n",
      "layer1.0.downsample.1.bias\n",
      "layer1.1.conv1.weight\n",
      "layer1.1.bn1.weight\n",
      "layer1.1.bn1.bias\n",
      "layer1.1.conv2.weight\n",
      "layer1.1.bn2.weight\n",
      "layer1.1.bn2.bias\n",
      "layer1.1.conv3.weight\n",
      "layer1.1.bn3.weight\n",
      "layer1.1.bn3.bias\n",
      "layer1.2.conv1.weight\n",
      "layer1.2.bn1.weight\n",
      "layer1.2.bn1.bias\n",
      "layer1.2.conv2.weight\n",
      "layer1.2.bn2.weight\n",
      "layer1.2.bn2.bias\n",
      "layer1.2.conv3.weight\n",
      "layer1.2.bn3.weight\n",
      "layer1.2.bn3.bias\n",
      "layer2.0.conv1.weight\n",
      "layer2.0.bn1.weight\n",
      "layer2.0.bn1.bias\n",
      "layer2.0.conv2.weight\n",
      "layer2.0.bn2.weight\n",
      "layer2.0.bn2.bias\n",
      "layer2.0.conv3.weight\n",
      "layer2.0.bn3.weight\n",
      "layer2.0.bn3.bias\n",
      "layer2.0.downsample.0.weight\n",
      "layer2.0.downsample.1.weight\n",
      "layer2.0.downsample.1.bias\n",
      "layer2.1.conv1.weight\n",
      "layer2.1.bn1.weight\n",
      "layer2.1.bn1.bias\n",
      "layer2.1.conv2.weight\n",
      "layer2.1.bn2.weight\n",
      "layer2.1.bn2.bias\n",
      "layer2.1.conv3.weight\n",
      "layer2.1.bn3.weight\n",
      "layer2.1.bn3.bias\n",
      "layer2.2.conv1.weight\n",
      "layer2.2.bn1.weight\n",
      "layer2.2.bn1.bias\n",
      "layer2.2.conv2.weight\n",
      "layer2.2.bn2.weight\n",
      "layer2.2.bn2.bias\n",
      "layer2.2.conv3.weight\n",
      "layer2.2.bn3.weight\n",
      "layer2.2.bn3.bias\n",
      "layer2.3.conv1.weight\n",
      "layer2.3.bn1.weight\n",
      "layer2.3.bn1.bias\n",
      "layer2.3.conv2.weight\n",
      "layer2.3.bn2.weight\n",
      "layer2.3.bn2.bias\n",
      "layer2.3.conv3.weight\n",
      "layer2.3.bn3.weight\n",
      "layer2.3.bn3.bias\n",
      "layer3.0.conv1.weight\n",
      "layer3.0.bn1.weight\n",
      "layer3.0.bn1.bias\n",
      "layer3.0.conv2.weight\n",
      "layer3.0.bn2.weight\n",
      "layer3.0.bn2.bias\n",
      "layer3.0.conv3.weight\n",
      "layer3.0.bn3.weight\n",
      "layer3.0.bn3.bias\n",
      "layer3.0.downsample.0.weight\n",
      "layer3.0.downsample.1.weight\n",
      "layer3.0.downsample.1.bias\n",
      "layer3.1.conv1.weight\n",
      "layer3.1.bn1.weight\n",
      "layer3.1.bn1.bias\n",
      "layer3.1.conv2.weight\n",
      "layer3.1.bn2.weight\n",
      "layer3.1.bn2.bias\n",
      "layer3.1.conv3.weight\n",
      "layer3.1.bn3.weight\n",
      "layer3.1.bn3.bias\n",
      "layer3.2.conv1.weight\n",
      "layer3.2.bn1.weight\n",
      "layer3.2.bn1.bias\n",
      "layer3.2.conv2.weight\n",
      "layer3.2.bn2.weight\n",
      "layer3.2.bn2.bias\n",
      "layer3.2.conv3.weight\n",
      "layer3.2.bn3.weight\n",
      "layer3.2.bn3.bias\n",
      "layer3.3.conv1.weight\n",
      "layer3.3.bn1.weight\n",
      "layer3.3.bn1.bias\n",
      "layer3.3.conv2.weight\n",
      "layer3.3.bn2.weight\n",
      "layer3.3.bn2.bias\n",
      "layer3.3.conv3.weight\n",
      "layer3.3.bn3.weight\n",
      "layer3.3.bn3.bias\n",
      "layer3.4.conv1.weight\n",
      "layer3.4.bn1.weight\n",
      "layer3.4.bn1.bias\n",
      "layer3.4.conv2.weight\n",
      "layer3.4.bn2.weight\n",
      "layer3.4.bn2.bias\n",
      "layer3.4.conv3.weight\n",
      "layer3.4.bn3.weight\n",
      "layer3.4.bn3.bias\n",
      "layer3.5.conv1.weight\n",
      "layer3.5.bn1.weight\n",
      "layer3.5.bn1.bias\n",
      "layer3.5.conv2.weight\n",
      "layer3.5.bn2.weight\n",
      "layer3.5.bn2.bias\n",
      "layer3.5.conv3.weight\n",
      "layer3.5.bn3.weight\n",
      "layer3.5.bn3.bias\n",
      "layer4.0.conv1.weight\n",
      "layer4.0.bn1.weight\n",
      "layer4.0.bn1.bias\n",
      "layer4.0.conv2.weight\n",
      "layer4.0.bn2.weight\n",
      "layer4.0.bn2.bias\n",
      "layer4.0.conv3.weight\n",
      "layer4.0.bn3.weight\n",
      "layer4.0.bn3.bias\n",
      "layer4.0.downsample.0.weight\n",
      "layer4.0.downsample.1.weight\n",
      "layer4.0.downsample.1.bias\n",
      "layer4.1.conv1.weight\n",
      "layer4.1.bn1.weight\n",
      "layer4.1.bn1.bias\n",
      "layer4.1.conv2.weight\n",
      "layer4.1.bn2.weight\n",
      "layer4.1.bn2.bias\n",
      "layer4.1.conv3.weight\n",
      "layer4.1.bn3.weight\n",
      "layer4.1.bn3.bias\n",
      "layer4.2.conv1.weight\n",
      "layer4.2.bn1.weight\n",
      "layer4.2.bn1.bias\n",
      "layer4.2.conv2.weight\n",
      "layer4.2.bn2.weight\n",
      "layer4.2.bn2.bias\n",
      "layer4.2.conv3.weight\n",
      "layer4.2.bn3.weight\n",
      "layer4.2.bn3.bias\n",
      "fc.weight\n",
      "fc.bias\n",
      "fc.0.weight\n",
      "fc.0.bias\n"
     ]
    }
   ],
   "source": [
    "device = torch.device(\"cuda:0\" if torch.cuda.is_available() else \"cpu\")\n",
    "pretrained_resnet = resnet50(weights=ResNet50_Weights.DEFAULT)\n",
    "for name, param in pretrained_resnet.named_parameters():\n",
    "    if param.requires_grad:\n",
    "        print(name)\n",
    "\n",
    "FreezeModel(pretrained_resnet)\n",
    "pretrained_resnet.fc = nn.Sequential(nn.Linear(2048, 100))\n",
    "pretrained_resnet.to(device)\n",
    "for name, param in pretrained_resnet.named_parameters():\n",
    "    if param.requires_grad:\n",
    "        print(name)\n"
   ]
  },
  {
   "cell_type": "code",
   "execution_count": 17,
   "metadata": {},
   "outputs": [
    {
     "name": "stdout",
     "output_type": "stream",
     "text": [
      "Training time: 95.94 seconds\n",
      "Total number of parameters: 204900\n"
     ]
    },
    {
     "data": {
      "image/png": "[encoded data removed]",
      "text/plain": [
       "<Figure size 1000x400 with 1 Axes>"
      ]
     },
     "execution_count": 17,
     "metadata": {},
     "output_type": "execute_result"
    },
    {
     "data": {
      "image/png": "[encoded data removed]",
      "text/plain": [
       "<Figure size 1000x400 with 1 Axes>"
      ]
     },
     "metadata": {},
     "output_type": "display_data"
    }
   ],
   "source": [
    "torch.manual_seed(20)\n",
    "loss_function = nn.CrossEntropyLoss()\n",
    "optimizer = optim.Adam(pretrained_resnet.parameters(), lr=3e-4)\n",
    "sbsResnet = StepByStep(pretrained_resnet, loss_function, optimizer)\n",
    "sbsResnet.set_loaders(CIFAR100trainloader, CIFAR100testloader)\n",
    "t1 = time.time()\n",
    "sbsResnet.train(3)\n",
    "t2 = time.time()\n",
    "TT = t2-t1\n",
    "print(f\"Training time: {TT/3:.2f} seconds\")\n",
    "parameters = sbsResnet.count_parameters()\n",
    "print(f\"Total number of parameters: {parameters}\")\n",
    "sbsResnet.plot_losses()"
   ]
  },
  {
   "cell_type": "code",
   "execution_count": 18,
   "metadata": {},
   "outputs": [
    {
     "name": "stdout",
     "output_type": "stream",
     "text": [
      "   TRAINING   ACCURACY:    62.2%     50000 predictions (31121 correct ones)\n",
      "   VALIDATION ACCURACY:    55.8%     10000 predictions ( 5582 correct ones)\n"
     ]
    }
   ],
   "source": [
    "trainAccuracy=StepByStep.loader_apply(CIFAR100trainloader, sbsResnet.correct)\n",
    "trainPredictions = trainAccuracy[:, 1]\n",
    "trainCorrectPred = trainAccuracy[:, 0]\n",
    "trainModelAccuracy = trainCorrectPred.sum()/trainPredictions.sum()*100.00\n",
    "tpred=trainPredictions.sum()\n",
    "tcorrect=trainCorrectPred.sum()\n",
    "print(f\"   TRAINING   ACCURACY:   {trainModelAccuracy:>5.1f}%\",end='')\n",
    "print(f\"     {tpred:>4} predictions ({tcorrect:>5} correct ones)\")\n",
    "\n",
    "valAccuracy=StepByStep.loader_apply(CIFAR100testloader, sbsResnet.correct)\n",
    "valPredictions = valAccuracy[:, 1]\n",
    "valCorrectPred = valAccuracy[:, 0]\n",
    "valModelAccuracy = valCorrectPred.sum()/valPredictions.sum()*100.00\n",
    "vpred=valPredictions.sum()\n",
    "vcorrect=valCorrectPred.sum()\n",
    "print(f\"   VALIDATION ACCURACY:   {valModelAccuracy:>5.1f}%\",end='')\n",
    "print(f\"     {vpred:>4} predictions ({vcorrect:>5} correct ones)\")"
   ]
  },
  {
   "cell_type": "markdown",
   "metadata": {},
   "source": [
    "## Part B"
   ]
  },
  {
   "cell_type": "code",
   "execution_count": 36,
   "metadata": {},
   "outputs": [
    {
     "ename": "RuntimeError",
     "evalue": "CUDA error: device-side assert triggered\nCUDA kernel errors might be asynchronously reported at some other API call, so the stacktrace below might be incorrect.\nFor debugging consider passing CUDA_LAUNCH_BLOCKING=1.\nCompile with `TORCH_USE_CUDA_DSA` to enable device-side assertions.\n",
     "output_type": "error",
     "traceback": [
      "\u001b[0;31m---------------------------------------------------------------------------\u001b[0m",
      "\u001b[0;31mRuntimeError\u001b[0m                              Traceback (most recent call last)",
      "\u001b[1;32m/home/mavi/image_classification/P5/resnet.ipynb Cell 8\u001b[0m line \u001b[0;36m5\n\u001b[1;32m      <a href='vscode-notebook-cell://ssh-remote%2B7b22686f73744e616d65223a22442d45333730382d4e30323735392e6d6573612e676d752e656475227d/home/mavi/image_classification/P5/resnet.ipynb#X10sdnNjb2RlLXJlbW90ZQ%3D%3D?line=2'>3</a>\u001b[0m FreezeModel(PB_Resnet)\n\u001b[1;32m      <a href='vscode-notebook-cell://ssh-remote%2B7b22686f73744e616d65223a22442d45333730382d4e30323735392e6d6573612e676d752e656475227d/home/mavi/image_classification/P5/resnet.ipynb#X10sdnNjb2RlLXJlbW90ZQ%3D%3D?line=3'>4</a>\u001b[0m PB_Resnet\u001b[39m.\u001b[39mfc \u001b[39m=\u001b[39m nn\u001b[39m.\u001b[39mIdentity()\n\u001b[0;32m----> <a href='vscode-notebook-cell://ssh-remote%2B7b22686f73744e616d65223a22442d45333730382d4e30323735392e6d6573612e676d752e656475227d/home/mavi/image_classification/P5/resnet.ipynb#X10sdnNjb2RlLXJlbW90ZQ%3D%3D?line=4'>5</a>\u001b[0m PB_Resnet\u001b[39m.\u001b[39;49mto(device)\n\u001b[1;32m      <a href='vscode-notebook-cell://ssh-remote%2B7b22686f73744e616d65223a22442d45333730382d4e30323735392e6d6573612e676d752e656475227d/home/mavi/image_classification/P5/resnet.ipynb#X10sdnNjb2RlLXJlbW90ZQ%3D%3D?line=5'>6</a>\u001b[0m \u001b[39m#PPtrain_data = PreprocessedDataset(PB_Resnet, CIFAR100trainloader)\u001b[39;00m\n\u001b[1;32m      <a href='vscode-notebook-cell://ssh-remote%2B7b22686f73744e616d65223a22442d45333730382d4e30323735392e6d6573612e676d752e656475227d/home/mavi/image_classification/P5/resnet.ipynb#X10sdnNjb2RlLXJlbW90ZQ%3D%3D?line=6'>7</a>\u001b[0m \u001b[39m#PPval_data   = PreprocessedDataset(PB_Resnet, CIFAR100testloader)\u001b[39;00m\n\u001b[1;32m      <a href='vscode-notebook-cell://ssh-remote%2B7b22686f73744e616d65223a22442d45333730382d4e30323735392e6d6573612e676d752e656475227d/home/mavi/image_classification/P5/resnet.ipynb#X10sdnNjb2RlLXJlbW90ZQ%3D%3D?line=7'>8</a>\u001b[0m \n\u001b[0;32m   (...)\u001b[0m\n\u001b[1;32m     <a href='vscode-notebook-cell://ssh-remote%2B7b22686f73744e616d65223a22442d45333730382d4e30323735392e6d6573612e676d752e656475227d/home/mavi/image_classification/P5/resnet.ipynb#X10sdnNjb2RlLXJlbW90ZQ%3D%3D?line=10'>11</a>\u001b[0m \n\u001b[1;32m     <a href='vscode-notebook-cell://ssh-remote%2B7b22686f73744e616d65223a22442d45333730382d4e30323735392e6d6573612e676d752e656475227d/home/mavi/image_classification/P5/resnet.ipynb#X10sdnNjb2RlLXJlbW90ZQ%3D%3D?line=11'>12</a>\u001b[0m \u001b[39m# STEP 1: This is where our preprocessed train and val datasets are\u001b[39;00m\n\u001b[1;32m     <a href='vscode-notebook-cell://ssh-remote%2B7b22686f73744e616d65223a22442d45333730382d4e30323735392e6d6573612e676d752e656475227d/home/mavi/image_classification/P5/resnet.ipynb#X10sdnNjb2RlLXJlbW90ZQ%3D%3D?line=12'>13</a>\u001b[0m x, y \u001b[39m=\u001b[39m torch\u001b[39m.\u001b[39mload(\u001b[39m'\u001b[39m\u001b[39mCIFAR100preproc.pth\u001b[39m\u001b[39m'\u001b[39m)\n",
      "File \u001b[0;32m~/anaconda3/envs/pytorch2/lib/python3.9/site-packages/torch/nn/modules/module.py:1145\u001b[0m, in \u001b[0;36mModule.to\u001b[0;34m(self, *args, **kwargs)\u001b[0m\n\u001b[1;32m   1141\u001b[0m         \u001b[39mreturn\u001b[39;00m t\u001b[39m.\u001b[39mto(device, dtype \u001b[39mif\u001b[39;00m t\u001b[39m.\u001b[39mis_floating_point() \u001b[39mor\u001b[39;00m t\u001b[39m.\u001b[39mis_complex() \u001b[39melse\u001b[39;00m \u001b[39mNone\u001b[39;00m,\n\u001b[1;32m   1142\u001b[0m                     non_blocking, memory_format\u001b[39m=\u001b[39mconvert_to_format)\n\u001b[1;32m   1143\u001b[0m     \u001b[39mreturn\u001b[39;00m t\u001b[39m.\u001b[39mto(device, dtype \u001b[39mif\u001b[39;00m t\u001b[39m.\u001b[39mis_floating_point() \u001b[39mor\u001b[39;00m t\u001b[39m.\u001b[39mis_complex() \u001b[39melse\u001b[39;00m \u001b[39mNone\u001b[39;00m, non_blocking)\n\u001b[0;32m-> 1145\u001b[0m \u001b[39mreturn\u001b[39;00m \u001b[39mself\u001b[39;49m\u001b[39m.\u001b[39;49m_apply(convert)\n",
      "File \u001b[0;32m~/anaconda3/envs/pytorch2/lib/python3.9/site-packages/torch/nn/modules/module.py:797\u001b[0m, in \u001b[0;36mModule._apply\u001b[0;34m(self, fn)\u001b[0m\n\u001b[1;32m    795\u001b[0m \u001b[39mdef\u001b[39;00m \u001b[39m_apply\u001b[39m(\u001b[39mself\u001b[39m, fn):\n\u001b[1;32m    796\u001b[0m     \u001b[39mfor\u001b[39;00m module \u001b[39min\u001b[39;00m \u001b[39mself\u001b[39m\u001b[39m.\u001b[39mchildren():\n\u001b[0;32m--> 797\u001b[0m         module\u001b[39m.\u001b[39;49m_apply(fn)\n\u001b[1;32m    799\u001b[0m     \u001b[39mdef\u001b[39;00m \u001b[39mcompute_should_use_set_data\u001b[39m(tensor, tensor_applied):\n\u001b[1;32m    800\u001b[0m         \u001b[39mif\u001b[39;00m torch\u001b[39m.\u001b[39m_has_compatible_shallow_copy_type(tensor, tensor_applied):\n\u001b[1;32m    801\u001b[0m             \u001b[39m# If the new tensor has compatible tensor type as the existing tensor,\u001b[39;00m\n\u001b[1;32m    802\u001b[0m             \u001b[39m# the current behavior is to change the tensor in-place using `.data =`,\u001b[39;00m\n\u001b[0;32m   (...)\u001b[0m\n\u001b[1;32m    807\u001b[0m             \u001b[39m# global flag to let the user control whether they want the future\u001b[39;00m\n\u001b[1;32m    808\u001b[0m             \u001b[39m# behavior of overwriting the existing tensor or not.\u001b[39;00m\n",
      "File \u001b[0;32m~/anaconda3/envs/pytorch2/lib/python3.9/site-packages/torch/nn/modules/module.py:820\u001b[0m, in \u001b[0;36mModule._apply\u001b[0;34m(self, fn)\u001b[0m\n\u001b[1;32m    816\u001b[0m \u001b[39m# Tensors stored in modules are graph leaves, and we don't want to\u001b[39;00m\n\u001b[1;32m    817\u001b[0m \u001b[39m# track autograd history of `param_applied`, so we have to use\u001b[39;00m\n\u001b[1;32m    818\u001b[0m \u001b[39m# `with torch.no_grad():`\u001b[39;00m\n\u001b[1;32m    819\u001b[0m \u001b[39mwith\u001b[39;00m torch\u001b[39m.\u001b[39mno_grad():\n\u001b[0;32m--> 820\u001b[0m     param_applied \u001b[39m=\u001b[39m fn(param)\n\u001b[1;32m    821\u001b[0m should_use_set_data \u001b[39m=\u001b[39m compute_should_use_set_data(param, param_applied)\n\u001b[1;32m    822\u001b[0m \u001b[39mif\u001b[39;00m should_use_set_data:\n",
      "File \u001b[0;32m~/anaconda3/envs/pytorch2/lib/python3.9/site-packages/torch/nn/modules/module.py:1143\u001b[0m, in \u001b[0;36mModule.to.<locals>.convert\u001b[0;34m(t)\u001b[0m\n\u001b[1;32m   1140\u001b[0m \u001b[39mif\u001b[39;00m convert_to_format \u001b[39mis\u001b[39;00m \u001b[39mnot\u001b[39;00m \u001b[39mNone\u001b[39;00m \u001b[39mand\u001b[39;00m t\u001b[39m.\u001b[39mdim() \u001b[39min\u001b[39;00m (\u001b[39m4\u001b[39m, \u001b[39m5\u001b[39m):\n\u001b[1;32m   1141\u001b[0m     \u001b[39mreturn\u001b[39;00m t\u001b[39m.\u001b[39mto(device, dtype \u001b[39mif\u001b[39;00m t\u001b[39m.\u001b[39mis_floating_point() \u001b[39mor\u001b[39;00m t\u001b[39m.\u001b[39mis_complex() \u001b[39melse\u001b[39;00m \u001b[39mNone\u001b[39;00m,\n\u001b[1;32m   1142\u001b[0m                 non_blocking, memory_format\u001b[39m=\u001b[39mconvert_to_format)\n\u001b[0;32m-> 1143\u001b[0m \u001b[39mreturn\u001b[39;00m t\u001b[39m.\u001b[39;49mto(device, dtype \u001b[39mif\u001b[39;49;00m t\u001b[39m.\u001b[39;49mis_floating_point() \u001b[39mor\u001b[39;49;00m t\u001b[39m.\u001b[39;49mis_complex() \u001b[39melse\u001b[39;49;00m \u001b[39mNone\u001b[39;49;00m, non_blocking)\n",
      "\u001b[0;31mRuntimeError\u001b[0m: CUDA error: device-side assert triggered\nCUDA kernel errors might be asynchronously reported at some other API call, so the stacktrace below might be incorrect.\nFor debugging consider passing CUDA_LAUNCH_BLOCKING=1.\nCompile with `TORCH_USE_CUDA_DSA` to enable device-side assertions.\n"
     ]
    }
   ],
   "source": [
    "device = torch.device(\"cuda:0\" if torch.cuda.is_available() else \"cpu\")\n",
    "PB_Resnet = resnet50(weights=ResNet50_Weights.DEFAULT)\n",
    "FreezeModel(PB_Resnet)\n",
    "PB_Resnet.fc = nn.Identity()\n",
    "PB_Resnet.to(device)\n",
    "#PPtrain_data = PreprocessedDataset(PB_Resnet, CIFAR100trainloader)\n",
    "#PPval_data   = PreprocessedDataset(PB_Resnet, CIFAR100testloader)\n",
    "\n",
    "#torch.save(PPtrain_data.tensors, 'CIFAR100preproc.pth')\n",
    "#torch.save(PPval_data.tensors, 'CIFAR100val_preproc.pth')"
   ]
  },
  {
   "cell_type": "code",
   "execution_count": 4,
   "metadata": {},
   "outputs": [],
   "source": [
    "x, y = torch.load('CIFAR100preproc.pth')\n",
    "train_preproc = TensorDataset(x, y)\n",
    "val_preproc = TensorDataset(*torch.load('CIFAR100val_preproc.pth'))\n",
    "\n",
    "\n",
    "train_preproc_loader = DataLoader(train_preproc, batch_size=128, shuffle=True)\n",
    "val_preproc_loader   = DataLoader(val_preproc, batch_size=128)"
   ]
  },
  {
   "cell_type": "code",
   "execution_count": 5,
   "metadata": {},
   "outputs": [
    {
     "name": "stdout",
     "output_type": "stream",
     "text": [
      "    TRAINING:             1 epoch\n",
      "    TRAINING TIME:         1883 ms   ( 1883 ms  per epoch)\n",
      "   TRAINING   ACCURACY:    62.1%     50000 predictions (31030 correct ones)\n",
      "   VALIDATION ACCURACY:    59.3% TOP-5:  87.3%\n",
      "     10000 predictions ( 5928 correct ones)\n",
      "================================================================================\n",
      "    TRAINING:             2 epochs\n",
      "    TRAINING TIME:          2.0 s   ( 1022 ms  per epoch)\n",
      "   TRAINING   ACCURACY:    70.7%     50000 predictions (35355 correct ones)\n",
      "   VALIDATION ACCURACY:    66.4% TOP-5:  91.0%\n",
      "     10000 predictions ( 6642 correct ones)\n",
      "================================================================================\n",
      "    TRAINING:             3 epochs\n",
      "    TRAINING TIME:          2.6 s   (867.4 ms per epoch)\n",
      "   TRAINING   ACCURACY:    75.9%     50000 predictions (37946 correct ones)\n",
      "   VALIDATION ACCURACY:    69.5% TOP-5:  92.3%\n",
      "     10000 predictions ( 6948 correct ones)\n",
      "================================================================================\n",
      "    TRAINING:             4 epochs\n",
      "    TRAINING TIME:          3.8 s   (962.2 ms per epoch)\n",
      "   TRAINING   ACCURACY:    80.3%     50000 predictions (40157 correct ones)\n",
      "   VALIDATION ACCURACY:    71.5% TOP-5:  93.1%\n",
      "     10000 predictions ( 7148 correct ones)\n",
      "================================================================================\n",
      "    TRAINING:             5 epochs\n",
      "    TRAINING TIME:          5.2 s   ( 1035 ms  per epoch)\n",
      "   TRAINING   ACCURACY:    84.1%     50000 predictions (42031 correct ones)\n",
      "   VALIDATION ACCURACY:    72.6% TOP-5:  93.3%\n",
      "     10000 predictions ( 7259 correct ones)\n",
      "================================================================================\n",
      "    TRAINING:             6 epochs\n",
      "    TRAINING TIME:          5.5 s   (918.7 ms per epoch)\n",
      "   TRAINING   ACCURACY:    87.5%     50000 predictions (43763 correct ones)\n",
      "   VALIDATION ACCURACY:    73.3% TOP-5:  93.4%\n",
      "     10000 predictions ( 7330 correct ones)\n",
      "================================================================================\n",
      "    TRAINING:             7 epochs\n",
      "    TRAINING TIME:          5.8 s   (825.2 ms per epoch)\n",
      "   TRAINING   ACCURACY:    90.6%     50000 predictions (45281 correct ones)\n",
      "   VALIDATION ACCURACY:    73.5% TOP-5:  93.6%\n",
      "     10000 predictions ( 7352 correct ones)\n",
      "================================================================================\n",
      "    TRAINING:             8 epochs\n",
      "    TRAINING TIME:          7.1 s   (893.4 ms per epoch)\n",
      "   TRAINING   ACCURACY:    92.9%     50000 predictions (46446 correct ones)\n",
      "   VALIDATION ACCURACY:    73.5% TOP-5:  93.7%\n",
      "     10000 predictions ( 7353 correct ones)\n",
      "================================================================================\n",
      "    TRAINING:             9 epochs\n",
      "    TRAINING TIME:          7.3 s   (812.2 ms per epoch)\n",
      "   TRAINING   ACCURACY:    94.8%     50000 predictions (47398 correct ones)\n",
      "   VALIDATION ACCURACY:    73.2% TOP-5:  93.6%\n",
      "     10000 predictions ( 7322 correct ones)\n",
      "================================================================================\n",
      "    TRAINING:             10 epochs\n",
      "    TRAINING TIME:          9.3 s   (928.4 ms per epoch)\n",
      "   TRAINING   ACCURACY:    96.4%     50000 predictions (48199 correct ones)\n",
      "   VALIDATION ACCURACY:    73.2% TOP-5:  93.3%\n",
      "     10000 predictions ( 7323 correct ones)\n",
      "================================================================================\n",
      "    TRAINING:             11 epochs\n",
      "    TRAINING TIME:          9.9 s   (900.3 ms per epoch)\n",
      "   TRAINING   ACCURACY:    97.6%     50000 predictions (48814 correct ones)\n",
      "   VALIDATION ACCURACY:    72.7% TOP-5:  93.2%\n",
      "     10000 predictions ( 7274 correct ones)\n",
      "================================================================================\n",
      "    TRAINING:             12 epochs\n",
      "    TRAINING TIME:         11.0 s   (914.1 ms per epoch)\n",
      "   TRAINING   ACCURACY:    98.5%     50000 predictions (49246 correct ones)\n",
      "   VALIDATION ACCURACY:    72.5% TOP-5:  93.0%\n",
      "     10000 predictions ( 7250 correct ones)\n",
      "================================================================================\n",
      "    TRAINING:             13 epochs\n",
      "    TRAINING TIME:         10.8 s   (831.9 ms per epoch)\n",
      "   TRAINING   ACCURACY:    99.0%     50000 predictions (49488 correct ones)\n",
      "   VALIDATION ACCURACY:    72.2% TOP-5:  92.8%\n",
      "     10000 predictions ( 7221 correct ones)\n",
      "================================================================================\n",
      "    TRAINING:             14 epochs\n",
      "    TRAINING TIME:         12.4 s   (888.7 ms per epoch)\n",
      "   TRAINING   ACCURACY:    99.4%     50000 predictions (49710 correct ones)\n",
      "   VALIDATION ACCURACY:    72.1% TOP-5:  92.7%\n",
      "     10000 predictions ( 7208 correct ones)\n",
      "================================================================================\n",
      "    TRAINING:             15 epochs\n",
      "    TRAINING TIME:         14.2 s   (947.5 ms per epoch)\n",
      "   TRAINING   ACCURACY:    99.7%     50000 predictions (49848 correct ones)\n",
      "   VALIDATION ACCURACY:    71.8% TOP-5:  92.4%\n",
      "     10000 predictions ( 7180 correct ones)\n",
      "================================================================================\n",
      "    TRAINING:             16 epochs\n",
      "    TRAINING TIME:         15.4 s   (962.9 ms per epoch)\n",
      "   TRAINING   ACCURACY:    99.9%     50000 predictions (49927 correct ones)\n",
      "   VALIDATION ACCURACY:    71.4% TOP-5:  92.5%\n",
      "     10000 predictions ( 7143 correct ones)\n",
      "================================================================================\n",
      "    TRAINING:             17 epochs\n",
      "    TRAINING TIME:         14.9 s   (873.7 ms per epoch)\n",
      "   TRAINING   ACCURACY:    99.9%     50000 predictions (49965 correct ones)\n",
      "   VALIDATION ACCURACY:    71.2% TOP-5:  92.3%\n",
      "     10000 predictions ( 7123 correct ones)\n",
      "================================================================================\n",
      "    TRAINING:             18 epochs\n",
      "    TRAINING TIME:         15.6 s   (868.2 ms per epoch)\n",
      "   TRAINING   ACCURACY:   100.0%     50000 predictions (49983 correct ones)\n",
      "   VALIDATION ACCURACY:    70.9% TOP-5:  92.2%\n",
      "     10000 predictions ( 7094 correct ones)\n",
      "================================================================================\n",
      "    TRAINING:             19 epochs\n",
      "    TRAINING TIME:         18.3 s   (961.5 ms per epoch)\n",
      "   TRAINING   ACCURACY:   100.0%     50000 predictions (49987 correct ones)\n",
      "   VALIDATION ACCURACY:    70.8% TOP-5:  92.2%\n",
      "     10000 predictions ( 7078 correct ones)\n",
      "================================================================================\n",
      "    TRAINING:             20 epochs\n",
      "    TRAINING TIME:         18.8 s   (941.5 ms per epoch)\n",
      "   TRAINING   ACCURACY:   100.0%     50000 predictions (49990 correct ones)\n",
      "   VALIDATION ACCURACY:    70.7% TOP-5:  91.9%\n",
      "     10000 predictions ( 7072 correct ones)\n",
      "================================================================================\n",
      "    TRAINING:             21 epochs\n",
      "    TRAINING TIME:         19.1 s   (910.6 ms per epoch)\n",
      "   TRAINING   ACCURACY:   100.0%     50000 predictions (49991 correct ones)\n",
      "   VALIDATION ACCURACY:    70.4% TOP-5:  91.8%\n",
      "     10000 predictions ( 7039 correct ones)\n",
      "================================================================================\n",
      "    TRAINING:             22 epochs\n",
      "    TRAINING TIME:         20.9 s   (950.5 ms per epoch)\n",
      "   TRAINING   ACCURACY:   100.0%     50000 predictions (49991 correct ones)\n",
      "   VALIDATION ACCURACY:    70.2% TOP-5:  91.7%\n",
      "     10000 predictions ( 7023 correct ones)\n",
      "================================================================================\n",
      "    TRAINING:             23 epochs\n",
      "    TRAINING TIME:         21.6 s   (939.7 ms per epoch)\n",
      "   TRAINING   ACCURACY:   100.0%     50000 predictions (49991 correct ones)\n",
      "   VALIDATION ACCURACY:    70.3% TOP-5:  91.5%\n",
      "     10000 predictions ( 7028 correct ones)\n",
      "================================================================================\n",
      "    TRAINING:             24 epochs\n",
      "    TRAINING TIME:         21.4 s   (892.1 ms per epoch)\n",
      "   TRAINING   ACCURACY:   100.0%     50000 predictions (49991 correct ones)\n",
      "   VALIDATION ACCURACY:    70.0% TOP-5:  91.4%\n",
      "     10000 predictions ( 6999 correct ones)\n",
      "================================================================================\n",
      "    TRAINING:             25 epochs\n",
      "    TRAINING TIME:         23.5 s   (938.5 ms per epoch)\n",
      "   TRAINING   ACCURACY:   100.0%     50000 predictions (49991 correct ones)\n",
      "   VALIDATION ACCURACY:    70.0% TOP-5:  91.3%\n",
      "     10000 predictions ( 6997 correct ones)\n",
      "================================================================================\n",
      "    TRAINING:             26 epochs\n",
      "    TRAINING TIME:         24.2 s   (930.9 ms per epoch)\n",
      "   TRAINING   ACCURACY:   100.0%     50000 predictions (49991 correct ones)\n",
      "   VALIDATION ACCURACY:    69.9% TOP-5:  91.2%\n",
      "     10000 predictions ( 6989 correct ones)\n",
      "================================================================================\n",
      "    TRAINING:             27 epochs\n",
      "    TRAINING TIME:         25.4 s   (939.3 ms per epoch)\n",
      "   TRAINING   ACCURACY:   100.0%     50000 predictions (49991 correct ones)\n",
      "   VALIDATION ACCURACY:    69.9% TOP-5:  91.1%\n",
      "     10000 predictions ( 6994 correct ones)\n",
      "================================================================================\n",
      "    TRAINING:             28 epochs\n",
      "    TRAINING TIME:         25.7 s   (918.9 ms per epoch)\n",
      "   TRAINING   ACCURACY:   100.0%     50000 predictions (49991 correct ones)\n",
      "   VALIDATION ACCURACY:    69.7% TOP-5:  91.0%\n",
      "     10000 predictions ( 6971 correct ones)\n",
      "================================================================================\n",
      "    TRAINING:             29 epochs\n",
      "    TRAINING TIME:         26.5 s   (915.0 ms per epoch)\n",
      "   TRAINING   ACCURACY:   100.0%     50000 predictions (49991 correct ones)\n",
      "   VALIDATION ACCURACY:    69.7% TOP-5:  91.0%\n",
      "     10000 predictions ( 6970 correct ones)\n",
      "================================================================================\n"
     ]
    }
   ],
   "source": [
    "from dataset import NicelyFormatTime\n",
    "top_one_train = []\n",
    "top_one_test = []\n",
    "top_five_test = []\n",
    "class_head = nn.Sequential(nn.Linear(2048,100))\n",
    "class_head.to(device)\n",
    "torch.manual_seed(17)\n",
    "loss_fn=nn.CrossEntropyLoss(reduction='mean')\n",
    "optimizer=optim.Adam(class_head.parameters(), lr=3e-4)\n",
    "# Our model to train the final layer\n",
    "sbs_resnet_final=StepByStep(class_head, loss_fn,optimizer)\n",
    "sbs_resnet_final.set_loaders(train_preproc_loader, val_preproc_loader)\n",
    "sbs_resnet_final.to(device)\n",
    "for Epochs in range(1,30):\n",
    "    t1=time.time()\n",
    "    sbs_resnet_final.train(Epochs)\n",
    "    t2=time.time()\n",
    "    TT=t2-t1                #Training Time\n",
    "    TTPE=TT/float(Epochs)   #Training Time per epoch\n",
    "    TT=NicelyFormatTime(TT)\n",
    "    TTPE=NicelyFormatTime(TTPE)\n",
    "    params=sbs_resnet_final.count_parameters()\n",
    "    print(f\"    TRAINING:             {Epochs} epoch{'s' if Epochs>1 else ''}\")\n",
    "    print(f\"    TRAINING TIME:        {TT}  ({TTPE} per epoch)\")\n",
    "    trainAccuracy=StepByStep.loader_apply(train_preproc_loader, sbs_resnet_final.correct)\n",
    "    trainPredictions = trainAccuracy[:, 1]\n",
    "    trainCorrectPred = trainAccuracy[:, 0]\n",
    "    trainModelAccuracy = trainCorrectPred.sum()/trainPredictions.sum()*100.00\n",
    "    top_one_train.append(trainModelAccuracy)\n",
    "    tpred=trainPredictions.sum()\n",
    "    tcorrect=trainCorrectPred.sum()\n",
    "    print(f\"   TRAINING   ACCURACY:   {trainModelAccuracy:>5.1f}%\",end='')\n",
    "    print(f\"     {tpred:>4} predictions ({tcorrect:>5} correct ones)\")\n",
    "    valAccuracy, top_5_val=StepByStep.loader_apply(val_preproc_loader, sbs_resnet_final.correct, top5=True)\n",
    "    valPredictions = valAccuracy[:, 1]\n",
    "    valCorrectPred = valAccuracy[:, 0]\n",
    "    valModelAccuracy = valCorrectPred.sum()/valPredictions.sum()*100.00\n",
    "    top_five_test.append(top_5_val)\n",
    "    top_one_test.append(valModelAccuracy)\n",
    "    vpred=valPredictions.sum()\n",
    "    vcorrect=valCorrectPred.sum()\n",
    "    print(f\"   VALIDATION ACCURACY:   {valModelAccuracy:>5.1f}%\",end='')\n",
    "    print(f\" TOP-5: {top_5_val:>5.1f}%\")\n",
    "    print(f\"     {vpred:>4} predictions ({vcorrect:>5} correct ones)\")\n",
    "    print(80*'=')"
   ]
  },
  {
   "cell_type": "code",
   "execution_count": 7,
   "metadata": {},
   "outputs": [
    {
     "data": {
      "image/png": "[encoded data removed]",
      "text/plain": [
       "<Figure size 640x480 with 1 Axes>"
      ]
     },
     "metadata": {},
     "output_type": "display_data"
    }
   ],
   "source": [
    "\"\"\"\n",
    "X axis = epoch\n",
    "Y axis = Training Top-1 accuracy (blue)\n",
    " Test Top-1 accuracy (red)\n",
    " Test Top-5 accuracy (green) \n",
    " \"\"\"\n",
    "plt.figure()\n",
    "plt.plot(range(1,30),top_one_train, label='Training Top-1 accuracy', color='blue')\n",
    "plt.plot(range(1,30),top_one_test, label='Test Top-1 accuracy', color='red')\n",
    "plt.plot(range(1,30),top_five_test, label='Test Top-5 accuracy', color='green')\n",
    "plt.xlabel('Epoch')\n",
    "plt.ylabel('Accuracy')\n",
    "plt.legend()\n",
    "plt.savefig('PB.png')"
   ]
  },
  {
   "cell_type": "code",
   "execution_count": 31,
   "metadata": {},
   "outputs": [],
   "source": [
    "\n",
    "def PreprocessedDatasetC(model, loader, device=None):\n",
    "    if device is None:  \n",
    "        device = next(model.parameters()).device\n",
    "        features = None\n",
    "        labels = None\n",
    " \n",
    "    for i, (x, y) in enumerate(loader):\n",
    "        model.eval()\n",
    "        output = model(x.to(device))\n",
    "        if i == 0:\n",
    "            features = output.detach().cpu()\n",
    "            y = ((y - 1) // 5).clamp(0, 19)\n",
    "            labels = y.cpu()\n",
    "        else:\n",
    "            features = torch.cat(\n",
    "                [features, output.detach().cpu()])\n",
    "            y = ((y - 1) // 5).clamp(0, 19)\n",
    "            labels = torch.cat([labels, y.cpu()])\n",
    "\n",
    "    dataset = TensorDataset(features, labels)\n",
    "    return dataset"
   ]
  },
  {
   "cell_type": "code",
   "execution_count": 32,
   "metadata": {},
   "outputs": [],
   "source": [
    "resnetPC = resnet50(weights=ResNet50_Weights.DEFAULT)\n",
    "FreezeModel(resnetPC)\n",
    "resnetPC.fc = nn.Identity()\n",
    "\n",
    "PPtrain_data = PreprocessedDatasetC(resnetPC, CIFAR100trainloader)\n",
    "PPval_data   = PreprocessedDatasetC(resnetPC, CIFAR100testloader)\n",
    "\n",
    "torch.save(PPtrain_data.tensors, 'CIFAR100preproc_C.pth')\n",
    "torch.save(PPval_data.tensors, 'CIFAR100val_preproc_C.pth')\n",
    "\n",
    "# STEP 1: This is where our preprocessed train and val datasets are"
   ]
  },
  {
   "cell_type": "code",
   "execution_count": 5,
   "metadata": {},
   "outputs": [],
   "source": [
    "\n",
    "x, y = torch.load('CIFAR100preproc_C.pth')\n",
    "train_preproc = TensorDataset(x, y)\n",
    "val_preproc = TensorDataset(*torch.load('CIFAR100val_preproc_C.pth'))\n",
    "\n",
    "\n",
    "train_preproc_loader_20 = DataLoader(train_preproc, batch_size=128, shuffle=True)\n",
    "val_preproc_loader_20   = DataLoader(val_preproc, batch_size=128)"
   ]
  },
  {
   "cell_type": "code",
   "execution_count": 43,
   "metadata": {},
   "outputs": [
    {
     "name": "stdout",
     "output_type": "stream",
     "text": [
      "torch.Size([128, 2048])\n",
      "tensor([ 0,  1,  2,  3,  4,  5,  6,  7,  8,  9, 10, 11, 12, 13, 14, 15, 16, 17,\n",
      "        18, 19])\n"
     ]
    }
   ],
   "source": [
    "data, target = next(iter(train_preproc_loader_20))\n",
    "print(data.shape)\n",
    "print(target.unique())"
   ]
  },
  {
   "cell_type": "code",
   "execution_count": 26,
   "metadata": {},
   "outputs": [
    {
     "name": "stdout",
     "output_type": "stream",
     "text": [
      "torch.Size([128, 2048])\n",
      "tensor([ 0,  1,  2,  3,  4,  5,  9, 11, 12, 14, 15, 16, 19, 20, 21, 22, 23, 24,\n",
      "        25, 27, 29, 30, 32, 34, 35, 36, 37, 39, 40, 41, 42, 43, 44, 46, 48, 49,\n",
      "        51, 52, 53, 54, 55, 56, 57, 59, 60, 61, 62, 63, 64, 65, 67, 68, 69, 70,\n",
      "        71, 72, 73, 75, 77, 78, 80, 82, 83, 85, 86, 89, 90, 91, 92, 93, 94, 95,\n",
      "        96, 99])\n"
     ]
    }
   ],
   "source": [
    "\n",
    "data, target = next(iter(train_preproc_loader))\n",
    "print(data.shape)\n",
    "print(target.unique())"
   ]
  },
  {
   "cell_type": "code",
   "execution_count": 6,
   "metadata": {},
   "outputs": [
    {
     "name": "stderr",
     "output_type": "stream",
     "text": [
      "  3%|██                                                            | 1/30 [00:02<01:02,  2.16s/it]"
     ]
    },
    {
     "name": "stdout",
     "output_type": "stream",
     "text": [
      "Epoch: 1 Train Accuracy: 4.09 Val Accuracy: 4.02\n"
     ]
    },
    {
     "name": "stderr",
     "output_type": "stream",
     "text": [
      "  7%|████▏                                                         | 2/30 [00:04<01:07,  2.40s/it]"
     ]
    },
    {
     "name": "stdout",
     "output_type": "stream",
     "text": [
      "Epoch: 2 Train Accuracy: 50.08 Val Accuracy: 48.65\n"
     ]
    },
    {
     "name": "stderr",
     "output_type": "stream",
     "text": [
      " 10%|██████▏                                                       | 3/30 [00:08<01:16,  2.85s/it]"
     ]
    },
    {
     "name": "stdout",
     "output_type": "stream",
     "text": [
      "Epoch: 3 Train Accuracy: 61.55 Val Accuracy: 59.14\n"
     ]
    },
    {
     "name": "stderr",
     "output_type": "stream",
     "text": [
      " 13%|████████▎                                                     | 4/30 [00:12<01:25,  3.30s/it]"
     ]
    },
    {
     "name": "stdout",
     "output_type": "stream",
     "text": [
      "Epoch: 4 Train Accuracy: 66.62 Val Accuracy: 63.03\n"
     ]
    },
    {
     "name": "stderr",
     "output_type": "stream",
     "text": [
      " 17%|██████████▎                                                   | 5/30 [00:17<01:37,  3.91s/it]"
     ]
    },
    {
     "name": "stdout",
     "output_type": "stream",
     "text": [
      "Epoch: 5 Train Accuracy: 70.03 Val Accuracy: 65.28\n"
     ]
    },
    {
     "name": "stderr",
     "output_type": "stream",
     "text": [
      " 20%|████████████▍                                                 | 6/30 [00:23<01:51,  4.63s/it]"
     ]
    },
    {
     "name": "stdout",
     "output_type": "stream",
     "text": [
      "Epoch: 6 Train Accuracy: 72.53 Val Accuracy: 66.53\n"
     ]
    },
    {
     "name": "stderr",
     "output_type": "stream",
     "text": [
      " 23%|██████████████▍                                               | 7/30 [00:29<01:59,  5.18s/it]"
     ]
    },
    {
     "name": "stdout",
     "output_type": "stream",
     "text": [
      "Epoch: 7 Train Accuracy: 74.41 Val Accuracy: 67.01\n"
     ]
    },
    {
     "name": "stderr",
     "output_type": "stream",
     "text": [
      " 27%|████████████████▌                                             | 8/30 [00:37<02:12,  6.03s/it]"
     ]
    },
    {
     "name": "stdout",
     "output_type": "stream",
     "text": [
      "Epoch: 8 Train Accuracy: 76.00 Val Accuracy: 67.41\n"
     ]
    },
    {
     "name": "stderr",
     "output_type": "stream",
     "text": [
      " 30%|██████████████████▌                                           | 9/30 [00:45<02:20,  6.69s/it]"
     ]
    },
    {
     "name": "stdout",
     "output_type": "stream",
     "text": [
      "Epoch: 9 Train Accuracy: 77.40 Val Accuracy: 67.72\n"
     ]
    },
    {
     "name": "stderr",
     "output_type": "stream",
     "text": [
      " 33%|████████████████████▎                                        | 10/30 [00:55<02:33,  7.69s/it]"
     ]
    },
    {
     "name": "stdout",
     "output_type": "stream",
     "text": [
      "Epoch: 10 Train Accuracy: 78.49 Val Accuracy: 67.73\n"
     ]
    },
    {
     "name": "stderr",
     "output_type": "stream",
     "text": [
      " 37%|██████████████████████▎                                      | 11/30 [01:05<02:43,  8.59s/it]"
     ]
    },
    {
     "name": "stdout",
     "output_type": "stream",
     "text": [
      "Epoch: 11 Train Accuracy: 79.55 Val Accuracy: 68.09\n"
     ]
    },
    {
     "name": "stderr",
     "output_type": "stream",
     "text": [
      " 40%|████████████████████████▍                                    | 12/30 [01:17<02:49,  9.41s/it]"
     ]
    },
    {
     "name": "stdout",
     "output_type": "stream",
     "text": [
      "Epoch: 12 Train Accuracy: 80.50 Val Accuracy: 67.74\n"
     ]
    },
    {
     "name": "stderr",
     "output_type": "stream",
     "text": [
      " 43%|██████████████████████████▍                                  | 13/30 [01:29<02:52, 10.15s/it]"
     ]
    },
    {
     "name": "stdout",
     "output_type": "stream",
     "text": [
      "Epoch: 13 Train Accuracy: 81.01 Val Accuracy: 67.30\n"
     ]
    },
    {
     "name": "stderr",
     "output_type": "stream",
     "text": [
      " 47%|████████████████████████████▍                                | 14/30 [01:42<02:59, 11.21s/it]"
     ]
    },
    {
     "name": "stdout",
     "output_type": "stream",
     "text": [
      "Epoch: 14 Train Accuracy: 81.72 Val Accuracy: 67.38\n"
     ]
    },
    {
     "name": "stderr",
     "output_type": "stream",
     "text": [
      " 50%|██████████████████████████████▌                              | 15/30 [01:58<03:06, 12.47s/it]"
     ]
    },
    {
     "name": "stdout",
     "output_type": "stream",
     "text": [
      "Epoch: 15 Train Accuracy: 82.36 Val Accuracy: 66.98\n"
     ]
    },
    {
     "name": "stderr",
     "output_type": "stream",
     "text": [
      " 53%|████████████████████████████████▌                            | 16/30 [02:14<03:09, 13.52s/it]"
     ]
    },
    {
     "name": "stdout",
     "output_type": "stream",
     "text": [
      "Epoch: 16 Train Accuracy: 82.90 Val Accuracy: 66.87\n"
     ]
    },
    {
     "name": "stderr",
     "output_type": "stream",
     "text": [
      " 57%|██████████████████████████████████▌                          | 17/30 [02:29<03:03, 14.12s/it]"
     ]
    },
    {
     "name": "stdout",
     "output_type": "stream",
     "text": [
      "Epoch: 17 Train Accuracy: 83.24 Val Accuracy: 66.61\n"
     ]
    },
    {
     "name": "stderr",
     "output_type": "stream",
     "text": [
      " 60%|████████████████████████████████████▌                        | 18/30 [02:47<03:02, 15.18s/it]"
     ]
    },
    {
     "name": "stdout",
     "output_type": "stream",
     "text": [
      "Epoch: 18 Train Accuracy: 83.80 Val Accuracy: 66.35\n"
     ]
    },
    {
     "name": "stderr",
     "output_type": "stream",
     "text": [
      " 63%|██████████████████████████████████████▋                      | 19/30 [03:03<02:51, 15.56s/it]"
     ]
    },
    {
     "name": "stdout",
     "output_type": "stream",
     "text": [
      "Epoch: 19 Train Accuracy: 84.09 Val Accuracy: 66.13\n"
     ]
    },
    {
     "name": "stderr",
     "output_type": "stream",
     "text": [
      " 67%|████████████████████████████████████████▋                    | 20/30 [03:23<02:47, 16.74s/it]"
     ]
    },
    {
     "name": "stdout",
     "output_type": "stream",
     "text": [
      "Epoch: 20 Train Accuracy: 84.56 Val Accuracy: 66.03\n"
     ]
    },
    {
     "name": "stderr",
     "output_type": "stream",
     "text": [
      " 70%|██████████████████████████████████████████▋                  | 21/30 [03:43<02:41, 17.92s/it]"
     ]
    },
    {
     "name": "stdout",
     "output_type": "stream",
     "text": [
      "Epoch: 21 Train Accuracy: 84.83 Val Accuracy: 65.70\n"
     ]
    },
    {
     "name": "stderr",
     "output_type": "stream",
     "text": [
      " 73%|████████████████████████████████████████████▋                | 22/30 [04:06<02:34, 19.26s/it]"
     ]
    },
    {
     "name": "stdout",
     "output_type": "stream",
     "text": [
      "Epoch: 22 Train Accuracy: 85.13 Val Accuracy: 65.34\n"
     ]
    },
    {
     "name": "stderr",
     "output_type": "stream",
     "text": [
      " 77%|██████████████████████████████████████████████▊              | 23/30 [04:29<02:22, 20.42s/it]"
     ]
    },
    {
     "name": "stdout",
     "output_type": "stream",
     "text": [
      "Epoch: 23 Train Accuracy: 85.41 Val Accuracy: 65.13\n"
     ]
    },
    {
     "name": "stderr",
     "output_type": "stream",
     "text": [
      " 80%|████████████████████████████████████████████████▊            | 24/30 [04:51<02:05, 20.97s/it]"
     ]
    },
    {
     "name": "stdout",
     "output_type": "stream",
     "text": [
      "Epoch: 24 Train Accuracy: 85.78 Val Accuracy: 65.07\n"
     ]
    },
    {
     "name": "stderr",
     "output_type": "stream",
     "text": [
      " 83%|██████████████████████████████████████████████████▊          | 25/30 [05:16<01:50, 22.16s/it]"
     ]
    },
    {
     "name": "stdout",
     "output_type": "stream",
     "text": [
      "Epoch: 25 Train Accuracy: 86.18 Val Accuracy: 64.74\n"
     ]
    },
    {
     "name": "stderr",
     "output_type": "stream",
     "text": [
      " 87%|████████████████████████████████████████████████████▊        | 26/30 [05:42<01:33, 23.29s/it]"
     ]
    },
    {
     "name": "stdout",
     "output_type": "stream",
     "text": [
      "Epoch: 26 Train Accuracy: 86.38 Val Accuracy: 64.51\n"
     ]
    },
    {
     "name": "stderr",
     "output_type": "stream",
     "text": [
      " 90%|██████████████████████████████████████████████████████▉      | 27/30 [06:05<01:09, 23.30s/it]"
     ]
    },
    {
     "name": "stdout",
     "output_type": "stream",
     "text": [
      "Epoch: 27 Train Accuracy: 86.60 Val Accuracy: 64.35\n"
     ]
    },
    {
     "name": "stderr",
     "output_type": "stream",
     "text": [
      " 93%|████████████████████████████████████████████████████████▉    | 28/30 [06:31<00:48, 24.13s/it]"
     ]
    },
    {
     "name": "stdout",
     "output_type": "stream",
     "text": [
      "Epoch: 28 Train Accuracy: 86.87 Val Accuracy: 64.19\n"
     ]
    },
    {
     "name": "stderr",
     "output_type": "stream",
     "text": [
      " 97%|██████████████████████████████████████████████████████████▉  | 29/30 [06:58<00:24, 24.98s/it]"
     ]
    },
    {
     "name": "stdout",
     "output_type": "stream",
     "text": [
      "Epoch: 29 Train Accuracy: 87.03 Val Accuracy: 64.03\n"
     ]
    },
    {
     "name": "stderr",
     "output_type": "stream",
     "text": [
      "100%|█████████████████████████████████████████████████████████████| 30/30 [07:26<00:00, 14.87s/it]"
     ]
    },
    {
     "name": "stdout",
     "output_type": "stream",
     "text": [
      "Epoch: 30 Train Accuracy: 87.25 Val Accuracy: 63.57\n"
     ]
    },
    {
     "name": "stderr",
     "output_type": "stream",
     "text": [
      "\n"
     ]
    }
   ],
   "source": [
    "from tqdm import tqdm\n",
    "SuperFinal = nn.Sequential(nn.Linear(2048, 20))\n",
    "loss1 = nn.CrossEntropyLoss()\n",
    "optimizer1 = optim.Adam(SuperFinal.parameters(), lr=3e-4)\n",
    "sbsSuperFinal = StepByStep(SuperFinal, loss1, optimizer1)\n",
    "sbsSuperFinal.set_loaders(train_preproc_loader_20, val_preproc_loader_20)\n",
    "train_acc = []\n",
    "val_acc = []\n",
    "for epoch in tqdm(range(30)):\n",
    "    sbsSuperFinal.train(epoch)\n",
    "    trainAccuracy = StepByStep.loader_apply(train_preproc_loader_20, sbsSuperFinal.correct)\n",
    "    trainPredictions = trainAccuracy[:, 1]\n",
    "    trainCorrectPred = trainAccuracy[:, 0]\n",
    "    trainModelAccuracy = trainCorrectPred.sum()/trainPredictions.sum()*100.00\n",
    "    train_acc.append(trainModelAccuracy)\n",
    "    valAccuracy = StepByStep.loader_apply(val_preproc_loader_20, sbsSuperFinal.correct)\n",
    "    valPredictions = valAccuracy[:, 1]\n",
    "    valCorrectPred = valAccuracy[:, 0]\n",
    "    valModelAccuracy = valCorrectPred.sum()/valPredictions.sum()*100.00\n",
    "    val_acc.append(valModelAccuracy)\n",
    "    print(f\"Epoch: {epoch+1} Train Accuracy: {trainModelAccuracy:.2f} Val Accuracy: {valModelAccuracy:.2f}\")\n"
   ]
  },
  {
   "cell_type": "code",
   "execution_count": 7,
   "metadata": {},
   "outputs": [
    {
     "data": {
      "image/png": "[encoded data removed]",
      "text/plain": [
       "<Figure size 640x480 with 1 Axes>"
      ]
     },
     "metadata": {},
     "output_type": "display_data"
    }
   ],
   "source": [
    "plt.figure()\n",
    "plt.plot(range(1,31),train_acc, label='Training Accuracy', color='blue')\n",
    "plt.plot(range(1,31),val_acc, label='Validation Accuracy', color='red')\n",
    "plt.xlabel('Epoch')\n",
    "plt.ylabel('Accuracy')\n",
    "plt.legend()\n",
    "plt.savefig('PC_SuperFinal.png')"
   ]
  },
  {
   "cell_type": "code",
   "execution_count": 8,
   "metadata": {},
   "outputs": [
    {
     "name": "stderr",
     "output_type": "stream",
     "text": [
      "  3%|██                                                            | 1/30 [00:04<02:16,  4.69s/it]"
     ]
    },
    {
     "name": "stdout",
     "output_type": "stream",
     "text": [
      "Epoch: 1 Train Accuracy: 0.91 Val Accuracy: 0.70\n"
     ]
    },
    {
     "name": "stderr",
     "output_type": "stream",
     "text": [
      "  7%|████▏                                                         | 2/30 [00:10<02:24,  5.14s/it]"
     ]
    },
    {
     "name": "stdout",
     "output_type": "stream",
     "text": [
      "Epoch: 2 Train Accuracy: 62.04 Val Accuracy: 59.27\n"
     ]
    },
    {
     "name": "stderr",
     "output_type": "stream",
     "text": [
      " 10%|██████▏                                                       | 3/30 [00:16<02:33,  5.67s/it]"
     ]
    },
    {
     "name": "stdout",
     "output_type": "stream",
     "text": [
      "Epoch: 3 Train Accuracy: 70.65 Val Accuracy: 66.35\n"
     ]
    },
    {
     "name": "stderr",
     "output_type": "stream",
     "text": [
      " 13%|████████▎                                                     | 4/30 [00:23<02:43,  6.29s/it]"
     ]
    },
    {
     "name": "stdout",
     "output_type": "stream",
     "text": [
      "Epoch: 4 Train Accuracy: 75.87 Val Accuracy: 69.36\n"
     ]
    },
    {
     "name": "stderr",
     "output_type": "stream",
     "text": [
      " 17%|██████████▎                                                   | 5/30 [00:31<02:52,  6.90s/it]"
     ]
    },
    {
     "name": "stdout",
     "output_type": "stream",
     "text": [
      "Epoch: 5 Train Accuracy: 80.28 Val Accuracy: 71.41\n"
     ]
    },
    {
     "name": "stderr",
     "output_type": "stream",
     "text": [
      " 20%|████████████▍                                                 | 6/30 [00:40<03:00,  7.53s/it]"
     ]
    },
    {
     "name": "stdout",
     "output_type": "stream",
     "text": [
      "Epoch: 6 Train Accuracy: 84.00 Val Accuracy: 72.51\n"
     ]
    },
    {
     "name": "stderr",
     "output_type": "stream",
     "text": [
      " 23%|██████████████▍                                               | 7/30 [00:50<03:11,  8.32s/it]"
     ]
    },
    {
     "name": "stdout",
     "output_type": "stream",
     "text": [
      "Epoch: 7 Train Accuracy: 87.53 Val Accuracy: 73.27\n"
     ]
    },
    {
     "name": "stderr",
     "output_type": "stream",
     "text": [
      " 27%|████████████████▌                                             | 8/30 [01:01<03:26,  9.36s/it]"
     ]
    },
    {
     "name": "stdout",
     "output_type": "stream",
     "text": [
      "Epoch: 8 Train Accuracy: 90.51 Val Accuracy: 73.55\n"
     ]
    },
    {
     "name": "stderr",
     "output_type": "stream",
     "text": [
      " 30%|██████████████████▌                                           | 9/30 [01:14<03:35, 10.27s/it]"
     ]
    },
    {
     "name": "stdout",
     "output_type": "stream",
     "text": [
      "Epoch: 9 Train Accuracy: 92.88 Val Accuracy: 73.50\n"
     ]
    },
    {
     "name": "stderr",
     "output_type": "stream",
     "text": [
      " 33%|████████████████████▎                                        | 10/30 [01:27<03:46, 11.35s/it]"
     ]
    },
    {
     "name": "stdout",
     "output_type": "stream",
     "text": [
      "Epoch: 10 Train Accuracy: 94.82 Val Accuracy: 73.34\n"
     ]
    },
    {
     "name": "stderr",
     "output_type": "stream",
     "text": [
      " 37%|██████████████████████▎                                      | 11/30 [01:41<03:48, 12.02s/it]"
     ]
    },
    {
     "name": "stdout",
     "output_type": "stream",
     "text": [
      "Epoch: 11 Train Accuracy: 96.40 Val Accuracy: 73.22\n"
     ]
    },
    {
     "name": "stderr",
     "output_type": "stream",
     "text": [
      " 40%|████████████████████████▍                                    | 12/30 [01:56<03:53, 12.96s/it]"
     ]
    },
    {
     "name": "stdout",
     "output_type": "stream",
     "text": [
      "Epoch: 12 Train Accuracy: 97.63 Val Accuracy: 72.65\n"
     ]
    },
    {
     "name": "stderr",
     "output_type": "stream",
     "text": [
      " 43%|██████████████████████████▍                                  | 13/30 [02:12<03:57, 13.99s/it]"
     ]
    },
    {
     "name": "stdout",
     "output_type": "stream",
     "text": [
      "Epoch: 13 Train Accuracy: 98.49 Val Accuracy: 72.54\n"
     ]
    },
    {
     "name": "stderr",
     "output_type": "stream",
     "text": [
      " 47%|████████████████████████████▍                                | 14/30 [02:29<03:54, 14.66s/it]"
     ]
    },
    {
     "name": "stdout",
     "output_type": "stream",
     "text": [
      "Epoch: 14 Train Accuracy: 98.99 Val Accuracy: 72.26\n"
     ]
    },
    {
     "name": "stderr",
     "output_type": "stream",
     "text": [
      " 50%|██████████████████████████████▌                              | 15/30 [02:46<03:53, 15.57s/it]"
     ]
    },
    {
     "name": "stdout",
     "output_type": "stream",
     "text": [
      "Epoch: 15 Train Accuracy: 99.43 Val Accuracy: 72.14\n"
     ]
    },
    {
     "name": "stderr",
     "output_type": "stream",
     "text": [
      " 53%|████████████████████████████████▌                            | 16/30 [03:05<03:51, 16.52s/it]"
     ]
    },
    {
     "name": "stdout",
     "output_type": "stream",
     "text": [
      "Epoch: 16 Train Accuracy: 99.69 Val Accuracy: 71.80\n"
     ]
    },
    {
     "name": "stderr",
     "output_type": "stream",
     "text": [
      " 57%|██████████████████████████████████▌                          | 17/30 [03:25<03:46, 17.42s/it]"
     ]
    },
    {
     "name": "stdout",
     "output_type": "stream",
     "text": [
      "Epoch: 17 Train Accuracy: 99.85 Val Accuracy: 71.41\n"
     ]
    },
    {
     "name": "stderr",
     "output_type": "stream",
     "text": [
      " 60%|████████████████████████████████████▌                        | 18/30 [03:45<03:40, 18.40s/it]"
     ]
    },
    {
     "name": "stdout",
     "output_type": "stream",
     "text": [
      "Epoch: 18 Train Accuracy: 99.93 Val Accuracy: 71.25\n"
     ]
    },
    {
     "name": "stderr",
     "output_type": "stream",
     "text": [
      " 63%|██████████████████████████████████████▋                      | 19/30 [04:07<03:32, 19.28s/it]"
     ]
    },
    {
     "name": "stdout",
     "output_type": "stream",
     "text": [
      "Epoch: 19 Train Accuracy: 99.97 Val Accuracy: 70.99\n"
     ]
    },
    {
     "name": "stderr",
     "output_type": "stream",
     "text": [
      " 67%|████████████████████████████████████████▋                    | 20/30 [04:28<03:20, 20.00s/it]"
     ]
    },
    {
     "name": "stdout",
     "output_type": "stream",
     "text": [
      "Epoch: 20 Train Accuracy: 99.97 Val Accuracy: 70.75\n"
     ]
    },
    {
     "name": "stderr",
     "output_type": "stream",
     "text": [
      " 70%|██████████████████████████████████████████▋                  | 21/30 [04:51<03:07, 20.80s/it]"
     ]
    },
    {
     "name": "stdout",
     "output_type": "stream",
     "text": [
      "Epoch: 21 Train Accuracy: 99.98 Val Accuracy: 70.64\n"
     ]
    },
    {
     "name": "stderr",
     "output_type": "stream",
     "text": [
      " 73%|████████████████████████████████████████████▋                | 22/30 [05:13<02:50, 21.29s/it]"
     ]
    },
    {
     "name": "stdout",
     "output_type": "stream",
     "text": [
      "Epoch: 22 Train Accuracy: 99.98 Val Accuracy: 70.37\n"
     ]
    },
    {
     "name": "stderr",
     "output_type": "stream",
     "text": [
      " 77%|██████████████████████████████████████████████▊              | 23/30 [05:39<02:38, 22.58s/it]"
     ]
    },
    {
     "name": "stdout",
     "output_type": "stream",
     "text": [
      "Epoch: 23 Train Accuracy: 99.98 Val Accuracy: 70.20\n"
     ]
    },
    {
     "name": "stderr",
     "output_type": "stream",
     "text": [
      " 80%|████████████████████████████████████████████████▊            | 24/30 [06:04<02:20, 23.39s/it]"
     ]
    },
    {
     "name": "stdout",
     "output_type": "stream",
     "text": [
      "Epoch: 24 Train Accuracy: 99.98 Val Accuracy: 70.31\n"
     ]
    },
    {
     "name": "stderr",
     "output_type": "stream",
     "text": [
      " 83%|██████████████████████████████████████████████████▊          | 25/30 [06:31<02:01, 24.28s/it]"
     ]
    },
    {
     "name": "stdout",
     "output_type": "stream",
     "text": [
      "Epoch: 25 Train Accuracy: 99.98 Val Accuracy: 70.05\n"
     ]
    },
    {
     "name": "stderr",
     "output_type": "stream",
     "text": [
      " 87%|████████████████████████████████████████████████████▊        | 26/30 [06:57<01:39, 24.89s/it]"
     ]
    },
    {
     "name": "stdout",
     "output_type": "stream",
     "text": [
      "Epoch: 26 Train Accuracy: 99.98 Val Accuracy: 69.99\n"
     ]
    },
    {
     "name": "stderr",
     "output_type": "stream",
     "text": [
      " 90%|██████████████████████████████████████████████████████▉      | 27/30 [07:26<01:18, 26.03s/it]"
     ]
    },
    {
     "name": "stdout",
     "output_type": "stream",
     "text": [
      "Epoch: 27 Train Accuracy: 99.98 Val Accuracy: 69.93\n"
     ]
    },
    {
     "name": "stderr",
     "output_type": "stream",
     "text": [
      " 93%|████████████████████████████████████████████████████████▉    | 28/30 [07:54<00:53, 26.75s/it]"
     ]
    },
    {
     "name": "stdout",
     "output_type": "stream",
     "text": [
      "Epoch: 28 Train Accuracy: 99.98 Val Accuracy: 69.95\n"
     ]
    },
    {
     "name": "stderr",
     "output_type": "stream",
     "text": [
      " 97%|██████████████████████████████████████████████████████████▉  | 29/30 [08:24<00:27, 27.60s/it]"
     ]
    },
    {
     "name": "stdout",
     "output_type": "stream",
     "text": [
      "Epoch: 29 Train Accuracy: 99.98 Val Accuracy: 69.78\n"
     ]
    },
    {
     "name": "stderr",
     "output_type": "stream",
     "text": [
      "100%|█████████████████████████████████████████████████████████████| 30/30 [08:55<00:00, 17.85s/it]"
     ]
    },
    {
     "name": "stdout",
     "output_type": "stream",
     "text": [
      "Epoch: 30 Train Accuracy: 99.98 Val Accuracy: 69.67\n"
     ]
    },
    {
     "name": "stderr",
     "output_type": "stream",
     "text": [
      "\n"
     ]
    }
   ],
   "source": [
    "\n",
    "SubFinal = nn.Sequential(nn.Linear(2048, 100))\n",
    "loss2 = nn.CrossEntropyLoss() \n",
    "optimizer2 = optim.Adam(SubFinal.parameters(), lr=3e-4)\n",
    "sbsSubFinal = StepByStep(SubFinal, loss2, optimizer2)\n",
    "sbsSubFinal.set_loaders(train_preproc_loader, val_preproc_loader)\n",
    "train_acc_2 = []\n",
    "val_acc_2 = []\n",
    "for epoch in tqdm(range(30)):\n",
    "    sbsSubFinal.train(epoch)\n",
    "    trainAccuracy = StepByStep.loader_apply(train_preproc_loader, sbsSubFinal.correct)\n",
    "    trainPredictions = trainAccuracy[:, 1]\n",
    "    trainCorrectPred = trainAccuracy[:, 0]\n",
    "    trainModelAccuracy = trainCorrectPred.sum()/trainPredictions.sum()*100.00\n",
    "    train_acc_2.append(trainModelAccuracy)\n",
    "    valAccuracy = StepByStep.loader_apply(val_preproc_loader, sbsSubFinal.correct)\n",
    "    valPredictions = valAccuracy[:, 1]\n",
    "    valCorrectPred = valAccuracy[:, 0]\n",
    "    valModelAccuracy = valCorrectPred.sum()/valPredictions.sum()*100.00\n",
    "    val_acc_2.append(valModelAccuracy)\n",
    "    print(f\"Epoch: {epoch+1} Train Accuracy: {trainModelAccuracy:.2f} Val Accuracy: {valModelAccuracy:.2f}\")\n"
   ]
  },
  {
   "cell_type": "code",
   "execution_count": 34,
   "metadata": {},
   "outputs": [],
   "source": [
    "import os\n",
    "import torch\n",
    "from torch.utils.data import Dataset, DataLoader\n",
    "from torchvision import transforms\n",
    "from PIL import Image\n",
    "\n",
    "class CustomDataset(Dataset):\n",
    "    def __init__(self, root_dir, transform=None):\n",
    "        self.root_dir = root_dir\n",
    "        self.transform = transform\n",
    "        self.classes = ['beaver', 'elephant', 'peppers', 'bear', 'dolphin', 'roses']\n",
    "        self.class_idx = [1, 59, 25, 41,2, 13 ]\n",
    "\n",
    "    def __len__(self):\n",
    "        return len(self.classes) *10  # 10 images per class\n",
    "\n",
    "    def __getitem__(self, idx):\n",
    "        class_idx = idx // 10\n",
    "        class_name = self.classes[class_idx]\n",
    "        image_name = f\"{class_name}{idx % 10 +1}.jpeg\"\n",
    "        image_path = os.path.join(self.root_dir, image_name)\n",
    "        if os.path.exists(image_path):\n",
    "            image = Image.open(image_path)\n",
    "        else:\n",
    "            image_name = f\"{class_name}{idx % 10 +1}.jpg\"\n",
    "            image_path = os.path.join(self.root_dir, image_name)\n",
    "            image = Image.open(image_path)\n",
    "\n",
    "        if self.transform:\n",
    "            image = self.transform(image)\n",
    "\n",
    "        return image, self.class_idx[class_idx]\n",
    "\n",
    "# Define the transformations\n",
    "transform = transforms.Compose([\n",
    "    transforms.Resize((32, 32)),         # Resize to 32x32 pixels\n",
    "    transforms.ToTensor()                # Convert to tensor\n",
    "])\n",
    "\n",
    "# Create an instance of your custom dataset\n",
    "root_dir = './NEW_CIFAR/'\n",
    "custom_dataset = CustomDataset(root_dir, transform=transform)\n",
    "\n",
    "# Create a DataLoader to iterate through the dataset\n",
    "batch_size = 16\n",
    "data_loader = DataLoader(custom_dataset, batch_size=batch_size, shuffle=True)"
   ]
  },
  {
   "cell_type": "code",
   "execution_count": 35,
   "metadata": {},
   "outputs": [
    {
     "name": "stdout",
     "output_type": "stream",
     "text": [
      "torch.Size([16, 3, 32, 32])\n"
     ]
    },
    {
     "data": {
      "image/png": "[encoded data removed]",
      "text/plain": [
       "<Figure size 640x480 with 1 Axes>"
      ]
     },
     "metadata": {},
     "output_type": "display_data"
    },
    {
     "name": "stdout",
     "output_type": "stream",
     "text": [
      "tensor(13)\n"
     ]
    }
   ],
   "source": [
    "data, target = next(iter(data_loader))\n",
    "print(data.shape)\n",
    "plt.imshow(data[0].permute(1, 2, 0))\n",
    "plt.show()\n",
    "print(target[0])"
   ]
  },
  {
   "cell_type": "code",
   "execution_count": 37,
   "metadata": {},
   "outputs": [],
   "source": [
    "#Plug these two trained parallel (SuperFinal and SubFinal)layers back into ResNet-50 and call this new model BrainNet.\n",
    "#BrainNet now has all of the frozen stuff, which feeds the data into two parallel final layers,\n",
    "#which output two separate outputs (first 20 outputs, next 100 outputs).\n",
    "\n",
    "class BrainNet(nn.Module):\n",
    "    def __init__(self, SuperFinal, SubFinal, resnet):\n",
    "        super(BrainNet, self).__init__()\n",
    "        self.SuperFinal = SuperFinal\n",
    "        self.SubFinal = SubFinal\n",
    "        self.resnet = resnet\n",
    "\n",
    "    def forward(self, x):\n",
    "        x = self.resnet(x)\n",
    "        x1 = self.SuperFinal(x)\n",
    "        x2 = self.SubFinal(x)\n",
    "        return x1, x2"
   ]
  },
  {
   "cell_type": "code",
   "execution_count": 69,
   "metadata": {},
   "outputs": [
    {
     "name": "stdout",
     "output_type": "stream",
     "text": [
      "\\begin{table}[ht]\n",
      "\\centering\n",
      "\\begin{tabular}{|c|c|c|c|c|c|}\n",
      "\\hline\n",
      "Output 1 & Confidence 1 & Target 1 & Output 2 & Confidence 2 & Target \\\\\n",
      "\\hline\n",
      "19 & 1.00 & 2 & 13 & 1.00 & 13 \\\\\n",
      "16 & 0.98 & 4 & 83 & 1.00 & 25 \\\\\n",
      "14 & 1.00 & 0 & 71 & 1.00 & 2 \\\\\n",
      "11 & 0.73 & 0 & 45 & 1.00 & 2 \\\\\n",
      "3 & 0.73 & 0 & 41 & 0.98 & 2 \\\\\n",
      "10 & 0.92 & 0 & 63 & 0.48 & 1 \\\\\n",
      "2 & 0.93 & 8 & 73 & 0.78 & 41 \\\\\n",
      "15 & 1.00 & 8 & 10 & 1.00 & 41 \\\\\n",
      "11 & 1.00 & 4 & 77 & 0.77 & 25 \\\\\n",
      "5 & 0.20 & 11 & 35 & 0.33 & 59 \\\\\n",
      "8 & 0.64 & 0 & 4 & 0.54 & 1 \\\\\n",
      "13 & 0.96 & 2 & 51 & 1.00 & 13 \\\\\n",
      "19 & 1.00 & 2 & 54 & 1.00 & 13 \\\\\n",
      "11 & 0.50 & 11 & 63 & 0.82 & 59 \\\\\n",
      "12 & 1.00 & 2 & 95 & 1.00 & 13 \\\\\n",
      "8 & 0.98 & 0 & 12 & 1.00 & 2 \\\\\n",
      "15 & 0.58 & 0 & 45 & 1.00 & 1 \\\\\n",
      "11 & 0.42 & 2 & 57 & 0.98 & 13 \\\\\n",
      "6 & 0.72 & 0 & 38 & 1.00 & 2 \\\\\n",
      "5 & 0.63 & 0 & 57 & 0.97 & 1 \\\\\n",
      "3 & 0.95 & 4 & 46 & 0.99 & 25 \\\\\n",
      "9 & 0.74 & 0 & 60 & 1.00 & 2 \\\\\n",
      "8 & 0.92 & 4 & 41 & 1.00 & 25 \\\\\n",
      "3 & 0.60 & 11 & 36 & 0.98 & 59 \\\\\n",
      "10 & 0.91 & 0 & 7 & 0.99 & 2 \\\\\n",
      "9 & 1.00 & 0 & 65 & 1.00 & 1 \\\\\n",
      "16 & 1.00 & 8 & 43 & 1.00 & 41 \\\\\n",
      "12 & 0.52 & 0 & 56 & 1.00 & 2 \\\\\n",
      "0 & 0.98 & 11 & 68 & 1.00 & 59 \\\\\n",
      "4 & 1.00 & 0 & 86 & 1.00 & 1 \\\\\n",
      "6 & 0.81 & 8 & 42 & 0.86 & 41 \\\\\n",
      "16 & 0.97 & 11 & 7 & 0.84 & 59 \\\\\n",
      "9 & 0.93 & 2 & 45 & 0.85 & 13 \\\\\n",
      "19 & 0.97 & 4 & 22 & 0.94 & 25 \\\\\n",
      "12 & 0.98 & 8 & 42 & 1.00 & 41 \\\\\n",
      "19 & 0.67 & 4 & 18 & 0.73 & 25 \\\\\n",
      "5 & 1.00 & 0 & 63 & 1.00 & 1 \\\\\n",
      "16 & 0.81 & 0 & 47 & 0.70 & 2 \\\\\n",
      "17 & 1.00 & 8 & 67 & 0.62 & 41 \\\\\n",
      "4 & 1.00 & 8 & 88 & 0.60 & 41 \\\\\n",
      "7 & 0.55 & 4 & 91 & 0.77 & 25 \\\\\n",
      "0 & 0.96 & 11 & 3 & 1.00 & 59 \\\\\n",
      "0 & 1.00 & 4 & 74 & 0.99 & 25 \\\\\n",
      "4 & 0.87 & 8 & 24 & 0.96 & 41 \\\\\n",
      "13 & 1.00 & 11 & 99 & 1.00 & 59 \\\\\n",
      "14 & 1.00 & 0 & 13 & 1.00 & 1 \\\\\n",
      "3 & 0.70 & 8 & 20 & 0.84 & 41 \\\\\n",
      "16 & 1.00 & 11 & 40 & 1.00 & 59 \\\\\n",
      "2 & 1.00 & 4 & 13 & 0.69 & 25 \\\\\n",
      "15 & 1.00 & 8 & 98 & 0.56 & 41 \\\\\n",
      "8 & 0.47 & 2 & 56 & 1.00 & 13 \\\\\n",
      "16 & 1.00 & 4 & 18 & 0.98 & 25 \\\\\n",
      "9 & 1.00 & 11 & 49 & 1.00 & 59 \\\\\n",
      "15 & 0.77 & 2 & 65 & 0.87 & 13 \\\\\n",
      "0 & 1.00 & 2 & 48 & 1.00 & 13 \\\\\n",
      "13 & 0.92 & 2 & 16 & 0.94 & 13 \\\\\n",
      "8 & 0.93 & 0 & 42 & 1.00 & 1 \\\\\n",
      "4 & 0.92 & 11 & 12 & 1.00 & 59 \\\\\n",
      "6 & 0.73 & 0 & 55 & 1.00 & 1 \\\\\n",
      "0 & 0.99 & 0 & 87 & 1.00 & 2 \\\\\n",
      "\\hline\n",
      "\\end{tabular}\n",
      "\\caption{Your table caption here.}\n",
      "\\label{tab:your_table_label}\n",
      "\\end{table}\n",
      "\n"
     ]
    }
   ],
   "source": [
    "## Test it with the new dataset\n",
    "root_dir = './NEW_CIFAR/'\n",
    "custom_dataset = CustomDataset(root_dir, transform=transform)\n",
    "batch_size = 16\n",
    "data_loader = DataLoader(custom_dataset, batch_size=batch_size, shuffle=True)\n",
    "device = torch.device(\"cuda:0\" if torch.cuda.is_available() else \"cpu\")\n",
    "resnetPD = resnet50(weights=ResNet50_Weights.DEFAULT)\n",
    "resnetPD.fc = nn.Identity()\n",
    "resnetPD.to(device)\n",
    "brain_net = BrainNet(SuperFinal, SubFinal, resnetPD)\n",
    "#Report your results with a 5-column table, where the columns are:\n",
    "#1) Original label of the image\n",
    "#2) Super-class reported by BrainNet\n",
    "#3) Super-class confidence (at what percentage did it report it)\n",
    "#4) Sub-class reported by BrainNet\n",
    "#5) Sub-class confidence (at what percentage did it report it)\n",
    "table_data = []\n",
    "sigm = nn.Softmax()\n",
    "for data, target in iter(data_loader):\n",
    "    data = data.to(device)\n",
    "    target = target.to(device)\n",
    "    output1, output2 = brain_net(data)\n",
    "    target1 = ((target - 1) // 5).clamp(0, 19)\n",
    "    #confidence of output1\n",
    "    prbs1 = F.softmax(output1, dim=1)\n",
    "    predicted_class1 = torch.argmax(prbs1, dim=1)\n",
    "    conf1 = prbs1[torch.arange(len(predicted_class1)), predicted_class1]\n",
    "    #confidence of output2\n",
    "    prbs2 = F.softmax(output2, dim=1)\n",
    "    predicted_class2 = torch.argmax(prbs2, dim=1)\n",
    "    conf2 = prbs2[torch.arange(len(predicted_class2)), predicted_class2]\n",
    "    for i in range(len(target)):\n",
    "        row = [\n",
    "            output1[i].argmax(dim=0).item(),\n",
    "            conf1[i].item(),\n",
    "            target1[i].item(),\n",
    "            output2[i].argmax(dim=0).item(),\n",
    "            conf2[i].item(),\n",
    "            target[i].item()\n",
    "        ]\n",
    "        table_data.append(row)\n",
    "\n",
    "table_latex = \"\\\\begin{table}[ht]\\n\"\n",
    "table_latex += \"\\\\centering\\n\"\n",
    "table_latex += \"\\\\begin{tabular}{|c|c|c|c|c|c|}\\n\"\n",
    "table_latex += \"\\\\hline\\n\"\n",
    "table_latex += \"Output 1 & Confidence 1 & Target 1 & Output 2 & Confidence 2 & Target \\\\\\\\\\n\"\n",
    "table_latex += \"\\\\hline\\n\"\n",
    "\n",
    "for row in table_data:\n",
    "    formatted_row = [f\"{val:.2f}\" if isinstance(val, (float)) else str(val) for val in row]\n",
    "    table_latex += \" & \".join(formatted_row) + \" \\\\\\\\\\n\"\n",
    "\n",
    "table_latex += \"\\\\hline\\n\"\n",
    "table_latex += \"\\\\end{tabular}\\n\"\n",
    "table_latex += \"\\\\caption{Your table caption here.}\\n\"\n",
    "table_latex += \"\\\\label{tab:your_table_label}\\n\"\n",
    "table_latex += \"\\\\end{table}\\n\"\n",
    "\n",
    "print(table_latex)\n"
   ]
  },
  {
   "cell_type": "code",
   "execution_count": null,
   "metadata": {},
   "outputs": [],
   "source": [
    "plt.figure()\n",
    "plt.plot(range(1,31),train_acc, label='SuperFinal: training accuracy', marker='o')\n",
    "plt.plot(range(1,31),val_acc, label='SuperFinal: validation accuracy', marker='o')\n",
    "plt.plot(range(1,31),train_acc_2, label='SubFinal: training accuracy', marker='o')\n",
    "plt.plot(range(1,31),val_acc_2, label='SubFinal: validation accuracy', marker='o')\n",
    "plt.xlabel('Epoch')\n",
    "plt.ylabel('Accuracy')\n",
    "plt.legend()\n",
    "plt.savefig('SuperFinal_SubFinal.png')"
   ]
  },
  {
   "cell_type": "code",
   "execution_count": 70,
   "metadata": {},
   "outputs": [],
   "source": [
    "# save latex table to file\n",
    "with open(\"table.tex\", \"w\") as f:\n",
    "    f.write(table_latex)"
   ]
  },
  {
   "cell_type": "code",
   "execution_count": null,
   "metadata": {},
   "outputs": [],
   "source": []
  }
 ],
 "metadata": {
  "kernelspec": {
   "display_name": "Python 3 (ipykernel)",
   "language": "python",
   "name": "python3"
  },
  "language_info": {
   "codemirror_mode": {
    "name": "ipython",
    "version": 3
   },
   "file_extension": ".py",
   "mimetype": "text/x-python",
   "name": "python",
   "nbconvert_exporter": "python",
   "pygments_lexer": "ipython3",
   "version": "3.9.18"
  }
 },
 "nbformat": 4,
 "nbformat_minor": 2
}
